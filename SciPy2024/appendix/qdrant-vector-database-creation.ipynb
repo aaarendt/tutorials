{
 "cells": [
  {
   "cell_type": "markdown",
   "id": "ce91ba40-0f53-4fc0-b687-a385a4c36a10",
   "metadata": {},
   "source": [
    "# Qdrant Vector Database Creation"
   ]
  },
  {
   "cell_type": "code",
   "execution_count": 1,
   "id": "26843ee7-eb3f-48df-bee7-125b994ce25e",
   "metadata": {},
   "outputs": [],
   "source": [
    "import os\n",
    "import requests\n",
    "\n",
    "from getpass import getpass\n",
    "from langchain.embeddings import HuggingFaceEmbeddings\n",
    "from langchain.schema import Document\n",
    "from langchain_community.vectorstores import Qdrant\n",
    "from llama_cpp import Llama\n",
    "import matplotlib.pyplot as plt\n",
    "import pandas as pd\n",
    "from tqdm.notebook import tqdm\n",
    "from qdrant_client import QdrantClient"
   ]
  },
  {
   "cell_type": "markdown",
   "id": "6446cc91-5e3a-429f-9ead-a38bbf1cf230",
   "metadata": {},
   "source": [
    "## GitHub Documents"
   ]
  },
  {
   "cell_type": "code",
   "execution_count": 2,
   "id": "9cee387e-ad9a-49a8-9ced-7ae8f9b8d9a0",
   "metadata": {},
   "outputs": [
    {
     "name": "stdin",
     "output_type": "stream",
     "text": [
      "GitHub Personal Access Token:  ········\n"
     ]
    }
   ],
   "source": [
    "# Enter your GitHub Personal Access Token securely\n",
    "ACCESS_TOKEN=getpass(prompt=\"GitHub Personal Access Token: \")"
   ]
  },
  {
   "cell_type": "code",
   "execution_count": 8,
   "id": "5f55fb43-c229-4acc-936a-87f20d20d8d1",
   "metadata": {},
   "outputs": [],
   "source": [
    "def fetch_and_process_rst_files(repo, branch, path):\n",
    "    \"\"\"\n",
    "    Recursively fetch and process RST files from a GitHub repository.\n",
    "    \"\"\"\n",
    "    base_url = f\"https://api.github.com/repos/{repo}/contents/{path}?ref={branch}\"\n",
    "    headers = {'Accept': 'application/vnd.github.v3+json'}\n",
    "    response = requests.get(base_url, headers=headers)\n",
    "    response.raise_for_status()  # This will raise an error for failed requests\n",
    "    files = response.json()\n",
    "\n",
    "    documents = []\n",
    "    for file in files:\n",
    "        if file['type'] == 'dir':  # This is a directory; recurse into it\n",
    "            documents.extend(fetch_and_process_rst_files(repo, branch, file['path']))\n",
    "        elif file['name'].endswith('.rst'):\n",
    "            file_url = file['download_url']\n",
    "            response = requests.get(file_url, headers={'Accept': 'application/vnd.github.v3.raw'})\n",
    "            response.raise_for_status()\n",
    "            title = file['name'].replace('.rst', '').replace('_', ' ').title()\n",
    "            documents.append(Document(page_content=response.text, metadata={\"title\": title, \"url\": file_url}))\n",
    "\n",
    "    return documents"
   ]
  },
  {
   "cell_type": "code",
   "execution_count": 9,
   "id": "f28805cc-c3c5-4ad4-969e-190cc55b0bcb",
   "metadata": {},
   "outputs": [],
   "source": [
    "# Usage example\n",
    "repository = 'astropy/astropy'\n",
    "branch = 'main'\n",
    "docs_path = 'docs'"
   ]
  },
  {
   "cell_type": "code",
   "execution_count": 10,
   "id": "e848a168-b3a9-48c8-a6ee-34940a18db2f",
   "metadata": {},
   "outputs": [
    {
     "ename": "HTTPError",
     "evalue": "403 Client Error: rate limit exceeded for url: https://api.github.com/repos/astropy/astropy/contents/docs/io?ref=main",
     "output_type": "error",
     "traceback": [
      "\u001b[0;31m---------------------------------------------------------------------------\u001b[0m",
      "\u001b[0;31mHTTPError\u001b[0m                                 Traceback (most recent call last)",
      "Cell \u001b[0;32mIn[10], line 1\u001b[0m\n\u001b[0;32m----> 1\u001b[0m github_documents \u001b[38;5;241m=\u001b[39m \u001b[43mfetch_and_process_rst_files\u001b[49m\u001b[43m(\u001b[49m\n\u001b[1;32m      2\u001b[0m \u001b[43m    \u001b[49m\u001b[43mrepo\u001b[49m\u001b[38;5;241;43m=\u001b[39;49m\u001b[43mrepository\u001b[49m\u001b[43m,\u001b[49m\u001b[43m \u001b[49m\n\u001b[1;32m      3\u001b[0m \u001b[43m    \u001b[49m\u001b[43mbranch\u001b[49m\u001b[38;5;241;43m=\u001b[39;49m\u001b[43mbranch\u001b[49m\u001b[43m,\u001b[49m\u001b[43m \u001b[49m\n\u001b[1;32m      4\u001b[0m \u001b[43m    \u001b[49m\u001b[43mpath\u001b[49m\u001b[38;5;241;43m=\u001b[39;49m\u001b[43mdocs_path\u001b[49m\u001b[43m,\u001b[49m\n\u001b[1;32m      5\u001b[0m \u001b[43m)\u001b[49m\n",
      "Cell \u001b[0;32mIn[8], line 14\u001b[0m, in \u001b[0;36mfetch_and_process_rst_files\u001b[0;34m(repo, branch, path)\u001b[0m\n\u001b[1;32m     12\u001b[0m \u001b[38;5;28;01mfor\u001b[39;00m file \u001b[38;5;129;01min\u001b[39;00m files:\n\u001b[1;32m     13\u001b[0m     \u001b[38;5;28;01mif\u001b[39;00m file[\u001b[38;5;124m'\u001b[39m\u001b[38;5;124mtype\u001b[39m\u001b[38;5;124m'\u001b[39m] \u001b[38;5;241m==\u001b[39m \u001b[38;5;124m'\u001b[39m\u001b[38;5;124mdir\u001b[39m\u001b[38;5;124m'\u001b[39m:  \u001b[38;5;66;03m# This is a directory; recurse into it\u001b[39;00m\n\u001b[0;32m---> 14\u001b[0m         documents\u001b[38;5;241m.\u001b[39mextend(\u001b[43mfetch_and_process_rst_files\u001b[49m\u001b[43m(\u001b[49m\u001b[43mrepo\u001b[49m\u001b[43m,\u001b[49m\u001b[43m \u001b[49m\u001b[43mbranch\u001b[49m\u001b[43m,\u001b[49m\u001b[43m \u001b[49m\u001b[43mfile\u001b[49m\u001b[43m[\u001b[49m\u001b[38;5;124;43m'\u001b[39;49m\u001b[38;5;124;43mpath\u001b[39;49m\u001b[38;5;124;43m'\u001b[39;49m\u001b[43m]\u001b[49m\u001b[43m)\u001b[49m)\n\u001b[1;32m     15\u001b[0m     \u001b[38;5;28;01melif\u001b[39;00m file[\u001b[38;5;124m'\u001b[39m\u001b[38;5;124mname\u001b[39m\u001b[38;5;124m'\u001b[39m]\u001b[38;5;241m.\u001b[39mendswith(\u001b[38;5;124m'\u001b[39m\u001b[38;5;124m.rst\u001b[39m\u001b[38;5;124m'\u001b[39m):\n\u001b[1;32m     16\u001b[0m         file_url \u001b[38;5;241m=\u001b[39m file[\u001b[38;5;124m'\u001b[39m\u001b[38;5;124mdownload_url\u001b[39m\u001b[38;5;124m'\u001b[39m]\n",
      "Cell \u001b[0;32mIn[8], line 8\u001b[0m, in \u001b[0;36mfetch_and_process_rst_files\u001b[0;34m(repo, branch, path)\u001b[0m\n\u001b[1;32m      6\u001b[0m headers \u001b[38;5;241m=\u001b[39m {\u001b[38;5;124m'\u001b[39m\u001b[38;5;124mAccept\u001b[39m\u001b[38;5;124m'\u001b[39m: \u001b[38;5;124m'\u001b[39m\u001b[38;5;124mapplication/vnd.github.v3+json\u001b[39m\u001b[38;5;124m'\u001b[39m}\n\u001b[1;32m      7\u001b[0m response \u001b[38;5;241m=\u001b[39m requests\u001b[38;5;241m.\u001b[39mget(base_url, headers\u001b[38;5;241m=\u001b[39mheaders)\n\u001b[0;32m----> 8\u001b[0m \u001b[43mresponse\u001b[49m\u001b[38;5;241;43m.\u001b[39;49m\u001b[43mraise_for_status\u001b[49m\u001b[43m(\u001b[49m\u001b[43m)\u001b[49m  \u001b[38;5;66;03m# This will raise an error for failed requests\u001b[39;00m\n\u001b[1;32m      9\u001b[0m files \u001b[38;5;241m=\u001b[39m response\u001b[38;5;241m.\u001b[39mjson()\n\u001b[1;32m     11\u001b[0m documents \u001b[38;5;241m=\u001b[39m []\n",
      "File \u001b[0;32m~/anaconda3/envs/ssec-scipy2024/lib/python3.11/site-packages/requests/models.py:1024\u001b[0m, in \u001b[0;36mResponse.raise_for_status\u001b[0;34m(self)\u001b[0m\n\u001b[1;32m   1019\u001b[0m     http_error_msg \u001b[38;5;241m=\u001b[39m (\n\u001b[1;32m   1020\u001b[0m         \u001b[38;5;124mf\u001b[39m\u001b[38;5;124m\"\u001b[39m\u001b[38;5;132;01m{\u001b[39;00m\u001b[38;5;28mself\u001b[39m\u001b[38;5;241m.\u001b[39mstatus_code\u001b[38;5;132;01m}\u001b[39;00m\u001b[38;5;124m Server Error: \u001b[39m\u001b[38;5;132;01m{\u001b[39;00mreason\u001b[38;5;132;01m}\u001b[39;00m\u001b[38;5;124m for url: \u001b[39m\u001b[38;5;132;01m{\u001b[39;00m\u001b[38;5;28mself\u001b[39m\u001b[38;5;241m.\u001b[39murl\u001b[38;5;132;01m}\u001b[39;00m\u001b[38;5;124m\"\u001b[39m\n\u001b[1;32m   1021\u001b[0m     )\n\u001b[1;32m   1023\u001b[0m \u001b[38;5;28;01mif\u001b[39;00m http_error_msg:\n\u001b[0;32m-> 1024\u001b[0m     \u001b[38;5;28;01mraise\u001b[39;00m HTTPError(http_error_msg, response\u001b[38;5;241m=\u001b[39m\u001b[38;5;28mself\u001b[39m)\n",
      "\u001b[0;31mHTTPError\u001b[0m: 403 Client Error: rate limit exceeded for url: https://api.github.com/repos/astropy/astropy/contents/docs/io?ref=main"
     ]
    }
   ],
   "source": [
    "github_documents = fetch_and_process_rst_files(\n",
    "    repo=repository, \n",
    "    branch=branch, \n",
    "    path=docs_path,\n",
    ")"
   ]
  },
  {
   "cell_type": "code",
   "execution_count": null,
   "id": "ef991fd7-fa91-4fb3-b189-cc3d521f6832",
   "metadata": {},
   "outputs": [],
   "source": [
    "len(github_documents)"
   ]
  },
  {
   "cell_type": "code",
   "execution_count": null,
   "id": "cc8c9f1d-13d3-4438-b978-1983be6e4a05",
   "metadata": {},
   "outputs": [],
   "source": [
    "lengths = [len(doc.page_content) for doc in github_documents]\n",
    "\n",
    "# Plot the distribution of document lengths, counted as the number of tokens\n",
    "fig = pd.Series(lengths).hist()\n",
    "plt.title(\"Distribution of document lengths in the knowledge base (in count of characters)\")\n",
    "plt.show()"
   ]
  },
  {
   "cell_type": "markdown",
   "id": "9253134c-e893-41fc-bcf1-88264950f763",
   "metadata": {},
   "source": [
    "> TODO: What happens if send a context to OLMo that's > 2048"
   ]
  },
  {
   "cell_type": "markdown",
   "id": "367099df-d0e2-46e1-895a-2c6297bae030",
   "metadata": {},
   "source": [
    "## Arxiv Abstracts"
   ]
  },
  {
   "cell_type": "code",
   "execution_count": null,
   "id": "f8249d9d-aa9d-4cec-9c5a-bc85ac8ea138",
   "metadata": {},
   "outputs": [],
   "source": [
    "# We will use the already pickled file but refer to the notebook in the Appendix if you are interested in understanding how we built it\n",
    "astro_df = pd.read_pickle(\"../../resources/data/astro-ph-arXiv-abstracts.pkl\")"
   ]
  },
  {
   "cell_type": "code",
   "execution_count": null,
   "id": "722844c4-9295-4a81-bc54-4f68c1a04276",
   "metadata": {},
   "outputs": [],
   "source": [
    "print(\"Number of astrophysics papers: \", len(astro_df))"
   ]
  },
  {
   "cell_type": "code",
   "execution_count": null,
   "id": "fee3a01e-2ed6-4668-8a3f-c5c97471c263",
   "metadata": {},
   "outputs": [],
   "source": [
    "astro_df.head()"
   ]
  },
  {
   "cell_type": "markdown",
   "id": "a5730eb8-7738-4099-be24-a5d2c1f4fd90",
   "metadata": {},
   "source": [
    "### Documents Loader"
   ]
  },
  {
   "cell_type": "markdown",
   "id": "44d819f9-df1f-4fb1-9b82-5c438a274873",
   "metadata": {},
   "source": [
    "LangChain helps load different documents (.txt, .pdf, .docx, .csv, .xlsx, .json) to feed into the LLM. The Document Loader even allows YouTube audio parsing and loading as part of unstructured document loading.\n",
    "\n",
    "Once loaded into the LangChain, the document can be pre-processed in different ways as required in the LLM application.  "
   ]
  },
  {
   "cell_type": "code",
   "execution_count": null,
   "id": "6e403f62-fc91-4be9-9d45-292190c221fd",
   "metadata": {},
   "outputs": [],
   "source": [
    "from langchain_community.document_loaders import DataFrameLoader"
   ]
  },
  {
   "cell_type": "code",
   "execution_count": null,
   "id": "bd8cd94b-474e-49a5-956e-27f89e65fca4",
   "metadata": {},
   "outputs": [],
   "source": [
    "# Load the dataframe full of abstracts\n",
    "# to memory in the form of LangChain Document objects\n",
    "loader = DataFrameLoader(astro_df, page_content_column=\"abstract\") \n",
    "astrophysics_abstracts_documents = loader.load()"
   ]
  },
  {
   "cell_type": "code",
   "execution_count": null,
   "id": "8de58aaa-4cae-45b7-bf55-dc00739c94a8",
   "metadata": {},
   "outputs": [],
   "source": [
    "print(\"Number of astrophysics papers: \", len(astrophysics_abstracts_documents))"
   ]
  },
  {
   "cell_type": "code",
   "execution_count": null,
   "id": "138995f7-5bba-43b9-ba7a-ab8ef9b16c21",
   "metadata": {},
   "outputs": [],
   "source": [
    "all_documents = astrophysics_abstracts_documents + github_documents\n",
    "print(\"Total Number of Documents: \", len(all_documents))"
   ]
  },
  {
   "cell_type": "markdown",
   "id": "16d1ebe7-8e12-4e2f-97d2-55074673aa37",
   "metadata": {},
   "source": [
    "## Qdrant Creation"
   ]
  },
  {
   "cell_type": "code",
   "execution_count": null,
   "id": "901dcab4-2a76-48d3-94b8-01b571311d79",
   "metadata": {},
   "outputs": [],
   "source": [
    "# TODO: Fix the path\n",
    "qdrant_path = \"../../resources/data/qdrant/scipy_qdrant/\"\n",
    "qdrant_collection = \"arxiv_astro-ph_abstracts_astropy_github_documentation\""
   ]
  },
  {
   "cell_type": "code",
   "execution_count": null,
   "id": "be5c185b-c033-4058-989e-2b7c48138195",
   "metadata": {},
   "outputs": [],
   "source": [
    "model = HuggingFaceEmbeddings(model_name=\"sentence-transformers/all-MiniLM-L6-v2\")"
   ]
  },
  {
   "cell_type": "code",
   "execution_count": null,
   "id": "6202ff82-c219-4c17-b960-c6d34231db08",
   "metadata": {},
   "outputs": [],
   "source": [
    "print(f\"Creating new Qdrant collection '{qdrant_collection}' from {len(all_documents)} documents\")\n",
    "    \n",
    "# Load the documents into a Qdrant Vector Database Collection\n",
    "# this will save locally in the current directory as sqlite\n",
    "qdrant = Qdrant.from_documents(\n",
    "    documents=all_documents,\n",
    "    embedding=model,\n",
    "    path=qdrant_path,\n",
    "    collection_name=qdrant_collection,\n",
    ")"
   ]
  },
  {
   "cell_type": "code",
   "execution_count": null,
   "id": "578b5a20-a2e9-4006-a514-9a544f4e502e",
   "metadata": {},
   "outputs": [],
   "source": [
    "# Setup the retriever for later step\n",
    "retriever = qdrant.as_retriever(search_type=\"mmr\", search_kwargs={\"k\": 2})"
   ]
  },
  {
   "cell_type": "code",
   "execution_count": null,
   "id": "323b976a-c7cc-4d86-9050-311b926d22c7",
   "metadata": {},
   "outputs": [],
   "source": [
    "retriever.invoke(\"What is dark matter?\")"
   ]
  },
  {
   "cell_type": "code",
   "execution_count": null,
   "id": "e668bc7c-2eba-4329-aa4b-5c9866885f55",
   "metadata": {},
   "outputs": [],
   "source": [
    "retriever.invoke(\"How can I perform celestial coordinate transformations?\")"
   ]
  },
  {
   "cell_type": "code",
   "execution_count": null,
   "id": "41f53e82-eee2-452a-932f-a5081c7fbe3c",
   "metadata": {},
   "outputs": [],
   "source": [
    "# Post-processing\n",
    "def format_docs(docs):\n",
    "    return \"\\n\\n\".join(doc.page_content for doc in docs)"
   ]
  },
  {
   "cell_type": "code",
   "execution_count": null,
   "id": "b189a1f7-a7b0-456f-ac34-794fec521617",
   "metadata": {},
   "outputs": [],
   "source": [
    "print(format_docs(retriever.invoke(\"How can I perform celestial coordinate transformations?\")))"
   ]
  },
  {
   "cell_type": "code",
   "execution_count": null,
   "id": "2403e158-85b8-4a5a-aa0f-8428fb133d9d",
   "metadata": {},
   "outputs": [],
   "source": []
  }
 ],
 "metadata": {
  "kernelspec": {
   "display_name": "Python 3 (ipykernel)",
   "language": "python",
   "name": "python3"
  },
  "language_info": {
   "codemirror_mode": {
    "name": "ipython",
    "version": 3
   },
   "file_extension": ".py",
   "mimetype": "text/x-python",
   "name": "python",
   "nbconvert_exporter": "python",
   "pygments_lexer": "ipython3",
   "version": "3.11.8"
  }
 },
 "nbformat": 4,
 "nbformat_minor": 5
}
