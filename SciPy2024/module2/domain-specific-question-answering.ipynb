{
 "cells": [
  {
   "cell_type": "markdown",
   "id": "ebb54058-bf40-4ecd-bb10-5eb3e6c5aa8b",
   "metadata": {},
   "source": [
    "# Domain-Specific Question and Answer Examples"
   ]
  },
  {
   "cell_type": "markdown",
   "id": "56047ba7-24da-46df-9484-40aa1acb0cbc",
   "metadata": {},
   "source": [
    "As a research scientist, you may have a set of documents, GitHub repositories, research papers, and domain-specific knowledge bases that you might want to search through quickly. You might have exploratory questions about the following:\n",
    "* How to utilize a particular method in a Python package based on your specific context\n",
    "* What is the current state of research on a particular subtopic of your choice\n",
    "* You are building expertise in a new subdomain in your field, and you want to use a variety of knowledge bases to accumulate knowledge"
   ]
  },
  {
   "cell_type": "code",
   "execution_count": 1,
   "id": "66be7b3d-657f-406b-8e6f-61142b785616",
   "metadata": {},
   "outputs": [],
   "source": [
    "from inspect import signature \n"
   ]
  },
  {
   "cell_type": "code",
   "execution_count": 2,
   "id": "aecc0a96-89ec-401c-a4bd-be9f9bfcf513",
   "metadata": {},
   "outputs": [],
   "source": [
    "from llama_cpp import Llama"
   ]
  },
  {
   "cell_type": "code",
   "execution_count": 3,
   "id": "3a55e240-44de-41d7-a008-1d0f11718b79",
   "metadata": {},
   "outputs": [],
   "source": [
    "import llama_cpp"
   ]
  },
  {
   "cell_type": "code",
   "execution_count": 4,
   "id": "9a2d652a-b9cf-4fd7-98dd-7d487b396f01",
   "metadata": {},
   "outputs": [
    {
     "data": {
      "text/plain": [
       "'0.2.70'"
      ]
     },
     "execution_count": 4,
     "metadata": {},
     "output_type": "execute_result"
    }
   ],
   "source": [
    "llama_cpp.__version__"
   ]
  },
  {
   "cell_type": "code",
   "execution_count": 5,
   "id": "4f1f566b-1705-4181-9f33-f44afaa13345",
   "metadata": {},
   "outputs": [
    {
     "data": {
      "text/plain": [
       "<Signature (repo_id: 'str', filename: 'Optional[str]', local_dir: 'Optional[Union[str, os.PathLike[str]]]' = None, local_dir_use_symlinks: \"Union[bool, Literal['auto']]\" = 'auto', cache_dir: 'Optional[Union[str, os.PathLike[str]]]' = None, **kwargs: 'Any') -> \"'Llama'\">"
      ]
     },
     "execution_count": 5,
     "metadata": {},
     "output_type": "execute_result"
    }
   ],
   "source": [
    "signature(Llama.from_pretrained)"
   ]
  },
  {
   "cell_type": "code",
   "execution_count": 20,
   "id": "fda04a79-1677-48e3-a7c5-df4833f3bf84",
   "metadata": {},
   "outputs": [],
   "source": [
    "def parse_olmo_chat_completion_response(generated_response: dict) -> str:\n",
    "    return generated_response[\"choices\"][0][\"message\"]"
   ]
  },
  {
   "cell_type": "code",
   "execution_count": 24,
   "id": "ef1e31e5-db1a-4a19-bbea-872673aa70ab",
   "metadata": {},
   "outputs": [],
   "source": [
    "def parse_olmo_text_generation_response(generated_response: dict) -> str:\n",
    "    return generated_response[\"choices\"][0][\"text\"]"
   ]
  },
  {
   "cell_type": "code",
   "execution_count": 19,
   "id": "043d0767",
   "metadata": {},
   "outputs": [],
   "source": [
    "olmo = Llama.from_pretrained(repo_id=\"ssec-uw/OLMo-7B-Instruct-GGUF\", filename=\"OLMo-7B-Instruct-Q4_K_M.gguf\", verbose=False)"
   ]
  },
  {
   "cell_type": "code",
   "execution_count": 25,
   "id": "eae666e7",
   "metadata": {},
   "outputs": [],
   "source": [
    "chat_response = olmo.create_chat_completion(\n",
    "    messages=[\n",
    "        {\n",
    "            \"role\": \"system\",\n",
    "            \"content\": \"You are an astro physics expert that answers questions around astrophysics.\",\n",
    "        },\n",
    "        {\"role\": \"user\", \"content\": \"What is dark matter?\"},\n",
    "    ],\n",
    "    temperature=0.8\n",
    ")"
   ]
  },
  {
   "cell_type": "code",
   "execution_count": 23,
   "id": "cc1a8f04-3da6-40c6-9023-bff19a01b54a",
   "metadata": {},
   "outputs": [
    {
     "data": {
      "text/plain": [
       "{'role': 'assistant',\n",
       " 'content': 'Dark matter is a theoretical particles that interacts with gravity, but not with the electromagnetic force which makes it invisible to all direct detection methods. It makes up approximately 84% of the matter in the universe and affects its expansion history, as well as large-scale structure formation. Dark matter is an important concept in modern physics, astronomy and cosmology. While its nature and properties remain a mystery, dark matter plays a fundamental role in our understanding of the universe, providing an essential framework to explain observational data on the distribution of matter and the motion of celestial bodies.'}"
      ]
     },
     "execution_count": 23,
     "metadata": {},
     "output_type": "execute_result"
    }
   ],
   "source": [
    "parse_olmo_chat_completion_response(chat_response)"
   ]
  },
  {
   "cell_type": "code",
   "execution_count": 26,
   "id": "3b3210a5",
   "metadata": {},
   "outputs": [],
   "source": [
    "prompt_response = olmo(prompt=\"Solar system is\", echo=True, max_tokens=100, temperature=0.8)"
   ]
  },
  {
   "cell_type": "code",
   "execution_count": 27,
   "id": "dee2542f-2326-4d83-9c58-c5ccfaaac18a",
   "metadata": {},
   "outputs": [
    {
     "data": {
      "text/plain": [
       "'Solar system is a hierarchical organization of bodies that comprise our solar The second law states that the angular momentum of a system cannot change, and the.\\nAstronomy is the scientific study of the structure, dynamics, and evolution of celestial objects and the physical processes that shape their properties. Astronomy also includes the study of the origin and evolution of the universe. The first astronomers were mainly interested in predicting positional astrology was concerned with divination based on the positioning of celestial bodies , which later became known as'"
      ]
     },
     "execution_count": 27,
     "metadata": {},
     "output_type": "execute_result"
    }
   ],
   "source": [
    "parse_olmo_text_generation_response(prompt_response)"
   ]
  },
  {
   "cell_type": "code",
   "execution_count": 28,
   "id": "1571ad86-5a77-4874-852b-479f6965ee3b",
   "metadata": {},
   "outputs": [
    {
     "data": {
      "text/plain": [
       "'Dark matter is believed to make up approximately 83 percent of the total mass in the universe, but its nature remains a mystery.\\n\"The new WITE observations have further improved our understanding of dark matter and the distribution of this mysterious substance within the Milky Way,\" said WITE co-author Michael Kuchnow of Penn State University in a statement. \"These results provide yet another piece to the puzzle that is our galactic neighborhood.\"'"
      ]
     },
     "execution_count": 28,
     "metadata": {},
     "output_type": "execute_result"
    }
   ],
   "source": [
    "prompt_response = olmo(prompt=\"Dark matter is\", echo=True, max_tokens=100, temperature=0.8)\n",
    "parse_olmo_text_generation_response(prompt_response)"
   ]
  },
  {
   "cell_type": "code",
   "execution_count": null,
   "id": "896b565a-21aa-45f9-87be-b418dce28154",
   "metadata": {},
   "outputs": [],
   "source": []
  }
 ],
 "metadata": {
  "kernelspec": {
   "display_name": "Python 3 (ipykernel)",
   "language": "python",
   "name": "python3"
  },
  "language_info": {
   "codemirror_mode": {
    "name": "ipython",
    "version": 3
   },
   "file_extension": ".py",
   "mimetype": "text/x-python",
   "name": "python",
   "nbconvert_exporter": "python",
   "pygments_lexer": "ipython3",
   "version": "3.11.8"
  }
 },
 "nbformat": 4,
 "nbformat_minor": 5
}
