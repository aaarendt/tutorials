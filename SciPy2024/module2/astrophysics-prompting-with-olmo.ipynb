{
 "cells": [
  {
   "cell_type": "markdown",
   "metadata": {},
   "source": [
    "# Astrophysics Prompting with OLMo"
   ]
  },
  {
   "cell_type": "markdown",
   "metadata": {},
   "source": [
    "We collected a set of questions from an astronomer:\n",
    "* What is dark matter?\n",
    "* How many dimensions are there in the elemental abundances of stars?\n",
    "* What is the evidence for cosmological\tparity violation?\n",
    "* What observations show evidence for dark matter?\n",
    "* What are the most popular theories for what dark matter might be made of?\n",
    "* Does dark matter need to be a particle?\n",
    "* What is the expected mass of dark matter?\n",
    "* What experiments are currently ongoing and searching for dark matter?\n",
    "* How do the above experiments work?\n",
    "* What type of dark matter would the LHC be able to detect?\n",
    "* Can you modify gravity to explain dark matter? If so how?\n",
    "* How do astronomers detect the presence of planets around nearby stars?\n",
    "* What is an eclipsing binary star?\n",
    "* Can you describe a taxonomy for different classes of variable stars?\n",
    "* What would the light curve of a tidal disruption event look like? How would it be different from a supernova?\n",
    "* How do supernova explode?\n",
    "* How is a Type II SN different from a Type 1a?\n",
    "\n",
    "\n",
    "Let's analyze how OLMo does without any additional context. "
   ]
  },
  {
   "cell_type": "code",
   "execution_count": 1,
   "metadata": {},
   "outputs": [],
   "source": [
    "import langchain\n",
    "import textwrap"
   ]
  },
  {
   "cell_type": "code",
   "execution_count": 2,
   "metadata": {},
   "outputs": [],
   "source": [
    "from langchain import PromptTemplate\n",
    "from llama_cpp import Llama"
   ]
  },
  {
   "cell_type": "code",
   "execution_count": 3,
   "metadata": {},
   "outputs": [],
   "source": [
    "from langchain_community.llms import LlamaCpp\n",
    "from langchain_core.callbacks import CallbackManager, StreamingStdOutCallbackHandler, BaseCallbackHandler\n",
    "from langchain_core.outputs import LLMResult"
   ]
  },
  {
   "cell_type": "code",
   "execution_count": 9,
   "metadata": {},
   "outputs": [],
   "source": [
    "from ssec_tutorials import OLMO_MODEL"
   ]
  },
  {
   "cell_type": "code",
   "execution_count": 10,
   "metadata": {
    "scrolled": true
   },
   "outputs": [],
   "source": [
    "olmo = LlamaCpp(\n",
    "    model_path=str(OLMO_MODEL),\n",
    "    callbacks=[StreamingStdOutCallbackHandler()],\n",
    "    temperature=0.8,\n",
    "    verbose=False,  \n",
    "    n_ctx=2048,\n",
    "    max_tokens=512,\n",
    ")"
   ]
  },
  {
   "cell_type": "code",
   "execution_count": 11,
   "metadata": {},
   "outputs": [],
   "source": [
    "# Create a prompt template using OLMo's tokenizer chat template we saw in module 1.\n",
    "prompt_template = PromptTemplate.from_template(\n",
    "    template=olmo.client.metadata['tokenizer.chat_template'], \n",
    "    template_format=\"jinja2\",\n",
    "    partial_variables={\"add_generation_prompt\": True, \"eos_token\": \"<|endoftext|>\"},\n",
    ")"
   ]
  },
  {
   "cell_type": "code",
   "execution_count": 12,
   "metadata": {
    "scrolled": true
   },
   "outputs": [],
   "source": [
    "# Test the prompt you want to send to OLMo.\n",
    "question = \"What is dark matter?\"\n",
    "\n",
    "full_prompt_text = prompt_template.format(\n",
    "    messages=[\n",
    "        {\n",
    "            \"role\": \"user\", \n",
    "            \"content\": textwrap.dedent(f\"\"\"\\\n",
    "            You are an astrophysics expert. Please answer the following question on astrophysics. \n",
    "            Question: {question}\"\"\")\n",
    "        }\n",
    "    ]\n",
    ")"
   ]
  },
  {
   "cell_type": "code",
   "execution_count": 13,
   "metadata": {},
   "outputs": [
    {
     "name": "stdout",
     "output_type": "stream",
     "text": [
      "<|endoftext|>\n",
      "\n",
      "<|user|>\n",
      "You are an astrophysics expert. Please answer the following question on astrophysics. \n",
      "Question: What is dark matter?\n",
      "\n",
      "\n",
      "<|assistant|>\n",
      "\n",
      "\n"
     ]
    }
   ],
   "source": [
    "print(full_prompt_text)"
   ]
  },
  {
   "cell_type": "code",
   "execution_count": 14,
   "metadata": {},
   "outputs": [],
   "source": [
    "# Chain the prompt template and olmo\n",
    "llm_chain = prompt_template | olmo"
   ]
  },
  {
   "cell_type": "code",
   "execution_count": 15,
   "metadata": {},
   "outputs": [
    {
     "name": "stdout",
     "output_type": "stream",
     "text": [
      "Dark Matter is a theoretical concept in astrophysics and cosmology that helps explain certain observations in the observable universe. Dark Matter does not interact with light or other forms of electromagnetic radiation, thus it is \"dark.\" However, it can be detected through its gravitational effects on visible matter and radiation in the universe.\n",
      "\n",
      "The term \"Dark Matter\" originated from the analogy that it behaves like a \"dark\" substance; invisible yet present due to its effects on observable phenomena. This concept is an integral part of modern cosmology, as it provides a framework for understanding the distribution and motion of celestial objects within our universe. \n",
      "\n",
      "Dark Matter plays a significant role in forming the structure of the universe: most of the mass-energy content of the cosmos is believed to be due to non-luminous dark matter particles, which interact only through gravitational forces with the visible matter (stars, gas, and dust) and electromagnetic radiation. By examining the distribution and motion of celestial bodies, scientists can estimate the amount of dark matter present in our universe.\n",
      "\n",
      "In summary, Dark Matter is a hypothetical substance that exists in an undetectable form yet makes up a significant portion of the cosmic mass-energy budget, shaping the structure of the universe through its gravitational influence on visible objects."
     ]
    }
   ],
   "source": [
    "# Invoke the chain with a question and other parameters. \n",
    "question = \"What is dark matter?\"\n",
    "\n",
    "captured_answer = llm_chain.invoke(\n",
    "    {\n",
    "        \"messages\":\n",
    "        [\n",
    "            {\n",
    "                \"role\": \"user\", \n",
    "                \"content\": textwrap.dedent(f\"\"\"\\\n",
    "                You are an astrophysics expert. Please answer the following question on astrophysics. \n",
    "                Question: {question}\"\"\")\n",
    "            }\n",
    "        ]\n",
    "    }\n",
    ")"
   ]
  },
  {
   "cell_type": "code",
   "execution_count": 16,
   "metadata": {},
   "outputs": [],
   "source": [
    "questions = [\n",
    "    \"What is dark matter?\",\n",
    "    \"How many dimensions are there in the elemental abundances of stars?\",\n",
    "    # \"What\tis the\tevidence for cosmological parity violation?\",\n",
    "    # \"What observations show evidence for dark matter?\",\n",
    "    # \"What are the most popular theories for what dark matter might be made of?\",\n",
    "    # \"Does dark matter need to be a particle?\",\n",
    "    # \"What is the expected mass of dark matter?\",\n",
    "    # \"What experiments are currently ongoing and searching for dark matter?\",\n",
    "    # \"How do the above experiments work?\",\n",
    "    # \"What type of dark matter would the LHC be able to detect?\",\n",
    "    # \"Can you modify gravity to explain dark matter? If so how?\",\n",
    "    # \"How do astronomers detect the presence of planets around nearby stars?\",\n",
    "    # \"What is an eclipsing binary star?\",\n",
    "    # \"Can you describe a taxonomy for different classes of variable stars?\",\n",
    "    # \"What would the light curve of a tidal disruption event look like? How would it be different from a super nova?\",\n",
    "    # \"How do supernova explode?\",\n",
    "    # \"How is a Type II SN different from a Type 1a?\"\n",
    "]"
   ]
  },
  {
   "cell_type": "code",
   "execution_count": 17,
   "metadata": {},
   "outputs": [],
   "source": [
    "def ask_question(question):\n",
    "    print(f\"\\n\\n------------------------------------------\\nQuestion: {question}\")\n",
    "    messages = [\n",
    "        {\n",
    "            \"role\": \"user\", \n",
    "            \"content\": textwrap.dedent(f\"\"\"\\\n",
    "            You are an astrophysics expert. Please answer the following question on astrophysics. \n",
    "            Question: {question}\"\"\")\n",
    "        }\n",
    "    ]\n",
    "    return llm_chain.invoke(\n",
    "        {\n",
    "            \"messages\": messages, \n",
    "        }\n",
    "    )"
   ]
  },
  {
   "cell_type": "code",
   "execution_count": 18,
   "metadata": {},
   "outputs": [
    {
     "name": "stdout",
     "output_type": "stream",
     "text": [
      "\n",
      "\n",
      "------------------------------------------\n",
      "Question: What is dark matter?\n",
      " Dark Matter is a theoretical particle or collection of particles that exists throughout the universe but cannot be seen directly due to its low emission of energy or other forms of radiation. Despite not being able to detect it through visible light, astronomers have confirmed its existence based on its gravitational effects on observable celestial objects such as stars, galaxies, and clusters. The name \"dark matter\" originates from the fact that it does not emit any light or energy, making it invisible to us but still capable of influencing the motions and properties of celestial bodies. In this way, dark matter plays a crucial role in our understanding of the universe, as it helps to explain various phenomena related to its structure and dynamics. Scientists estimate that dark matter makes up approximately 85% of the total matter content in the universe, with ordinary matter (such as stars, gas, and dust) making up only about 5% of this total.\n",
      "\n",
      "------------------------------------------\n",
      "Question: How many dimensions are there in the elemental abundances of stars?\n",
      " I'm happy to try and help you with your question! However, I would need to provide an answer. While I can't directly give you the exact number of dimensions involved in the elemental abunances of stars, let me explain this concept a bit further for you. Here's a brief overview:\n",
      "\n",
      "Stellar astrophysics focuses on the study of the physical and chemical properties of stars, particularly their composition, evolution, and formation. This information helps us understand how different elements are created within stars and later spread throughout the universe during stellar explosions called supernovae or via cosmic-ray collisions.\n",
      "\n",
      "The elemental abundances in a star refer to the relative numbers of various elements present compared to hydrogen (H). The elemental abundances can be classified into two main categories: nucleosynthetic abundance variations (NAVAR) and radiogenic abundance variations (RAV). NAVAR describes differences in elemental production processes across different stars, while RAV occurs due to radioactive decay.\n",
      "\n",
      "When considering the number of dimensions related to these abunances, you may consider: \n",
      "\n",
      "1. Dimensionality of nucleosynthesis pathways: Stars with distinct nucleosynthetic histories can have drastically different elemental abundances. For example, a star that formed from the remains of a massive binary system will likely have distinct abundance patterns compared to a single-star birth event. The number of dimensions associated with this variation would be three (3), representing the two stars composing the binary and their unique nucleosynthetic pathways.\n",
      "\n",
      "2. Dimensionality of stellar evolution: As a star ages, it undergoes various stages of life, such as pre-main sequence, main-sequence, red giant branch, asymptotic giant branch, white dwarf, etc. Each stage has distinct evolutionary characteristics that influence the elemental abundances observed in the star. For example, during the asymptotic giant branch phase, stars may have varying abundances across a range of elements due to their different mass loss rates and mixing mechanisms. Thus, the number of dimensions involved in these variations would be four (4) - representing three binary stars (or more) and one specific evolutionary stage.\n",
      "\n",
      "Therefore, the number of dimensions for the elemental abundances in a star depends on the specific stellar life cycle being considered. In general, it can vary between three (3) to four (4) dimensions, depending on the nuances involved in star formation and evolution."
     ]
    }
   ],
   "source": [
    "for question in questions:\n",
    "    ask_question(question)"
   ]
  },
  {
   "cell_type": "markdown",
   "metadata": {},
   "source": [
    "`Try OLMo with your own domain-specific question from the list of questions above.`"
   ]
  },
  {
   "cell_type": "code",
   "execution_count": null,
   "metadata": {},
   "outputs": [],
   "source": [
    "question = \"<Add your own domain specific question here.>\"\n",
    "\n",
    "captured_answer = ask_question(question)"
   ]
  },
  {
   "cell_type": "code",
   "execution_count": 14,
   "metadata": {},
   "outputs": [
    {
     "name": "stdout",
     "output_type": "stream",
     "text": [
      "\n",
      "\n",
      "------------------------------------------\n",
      "Question: How can I perform celestial coordinate transformations?\n",
      " Sure, I'd be happy to help you with that! Celestial coordinate transformations refer to the process of converting one set of coordinates to another set based on the location and motion of celestial objects in the sky. These transformations are essential for studying astronomical phenomena and making sense of observations made using telescopes or other equipment. In astrophysics, these transformations are used to convert observations from one reference frame (such as Earth's) to another, such as from an Earth-centered system (ECS) to a solar-centered system (SCS).\n",
      "\n",
      "There are several coordinate systems that can be used in astrophysics, including:\n",
      "\n",
      "1. Cartesian Coordinates: These coordinates represent a point in 3D space and are commonly used for plotting positions on charts or maps. In astronomical applications, cartesian coordinates typically include the X, Y, and Z axes. For example, (x,y,z) represents an object's location on the Earth's surface.\n",
      "\n",
      "2. Galactic Coordinates: These coordinates describe the position of a celestial body along our galaxy's galactic plane. The x-axis points towards the galactic center, the y-axis is perpendicular to the galactic plane, and the z-axis is parallel to it. For example, the (l,b) system is used for star locations within our Milky Way galaxy.\n",
      "\n",
      "3. Galactocentric Coordinates: These coordinates describe a celestial body's position relative to the center of our galaxy. The x-axis points towards the galactic center, and the y- and z-axes are perpendicular to each other but point in the direction of the galaxy's rotational axis. For example, the (r,θ,ϕ) system is used for star positions within a specific region of the Milky Way.\n",
      "\n",
      "4. Solar Coordinates: These coordinates describe a celestial body's position relative to our solar system. The x-axis points towards the Sun, the y-axis is perpendicular to it and parallel to the Earth's orbit around the Sun, while the z-axis is parallel to the direction of the Sun's motion in the solar system. For example, the (R,φ) system is commonly used for observing celestial bodies within our Solar System.\n",
      "\n",
      "To transform from one set of coordinates to another, you can use standard equations or computer programs that take the input coordinate values and apply the appropriate transformations based on the specific reference frame. For example:\n",
      "\n",
      "    Cartesian to Galactic Coordinates (x',y',z"
     ]
    }
   ],
   "source": [
    "question = \"How can I perform celestial coordinate transformations?\"\n",
    "\n",
    "captured_answer = ask_question(question)"
   ]
  },
  {
   "cell_type": "code",
   "execution_count": null,
   "metadata": {},
   "outputs": [],
   "source": []
  }
 ],
 "metadata": {
  "kernelspec": {
   "display_name": "Python 3 (ipykernel)",
   "language": "python",
   "name": "python3"
  },
  "language_info": {
   "codemirror_mode": {
    "name": "ipython",
    "version": 3
   },
   "file_extension": ".py",
   "mimetype": "text/x-python",
   "name": "python",
   "nbconvert_exporter": "python",
   "pygments_lexer": "ipython3",
   "version": "3.11.9"
  }
 },
 "nbformat": 4,
 "nbformat_minor": 4
}
