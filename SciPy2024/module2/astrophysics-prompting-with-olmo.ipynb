{
 "cells": [
  {
   "cell_type": "markdown",
   "metadata": {},
   "source": [
    "# Astrophysics Prompting with OLMo"
   ]
  },
  {
   "cell_type": "markdown",
   "metadata": {},
   "source": [
    "We collected a set of questions from an astronomer:\n",
    "* What is dark matter?\n",
    "* How many dimensions are there in the elemental abundances of stars?\n",
    "* What is the evidence for cosmological\tparity violation?\n",
    "* What observations show evidence for dark matter?\n",
    "* What are the most popular theories for what dark matter might be made of?\n",
    "* Does dark matter need to be a particle?\n",
    "* What is the expected mass of dark matter?\n",
    "* What experiments are currently ongoing and searching for dark matter?\n",
    "* How do the above experiments work?\n",
    "* What type of dark matter would the LHC be able to detect?\n",
    "* Can you modify gravity to explain dark matter? If so how?\n",
    "* How do astronomers detect the presence of planets around nearby stars?\n",
    "* What is an eclipsing binary star?\n",
    "* Can you describe a taxonomy for different classes of variable stars?\n",
    "* What would the light curve of a tidal disruption event look like? How would it be different from a supernova?\n",
    "* How do supernova explode?\n",
    "* How is a Type II SN different from a Type 1a?\n",
    "\n",
    "\n",
    "Let's analyze how OLMo does without any additional context. "
   ]
  },
  {
   "cell_type": "code",
   "execution_count": 29,
   "metadata": {},
   "outputs": [],
   "source": [
    "import langchain\n",
    "import textwrap"
   ]
  },
  {
   "cell_type": "code",
   "execution_count": 30,
   "metadata": {},
   "outputs": [],
   "source": [
    "from langchain import PromptTemplate\n",
    "from llama_cpp import Llama"
   ]
  },
  {
   "cell_type": "code",
   "execution_count": 31,
   "metadata": {},
   "outputs": [],
   "source": [
    "from langchain_community.llms import LlamaCpp\n",
    "from langchain_core.callbacks import CallbackManager, StreamingStdOutCallbackHandler, BaseCallbackHandler\n",
    "from langchain_core.outputs import LLMResult"
   ]
  },
  {
   "cell_type": "code",
   "execution_count": 32,
   "metadata": {
    "scrolled": true
   },
   "outputs": [],
   "source": [
    "# Make sure the model path is correct for your system!\n",
    "# TODO: Fix model path to cache folder\n",
    "olmo = LlamaCpp(\n",
    "    model_path=\"../../resources/models/OLMo-7B-Instruct-GGUF/OLMo-7B-Instruct-Q4_K_M.gguf\",\n",
    "    callbacks=[StreamingStdOutCallbackHandler()],\n",
    "    temperature=0.8,\n",
    "    verbose=False,  \n",
    "    n_ctx=2048,\n",
    "    max_tokens=512,\n",
    ")"
   ]
  },
  {
   "cell_type": "code",
   "execution_count": 33,
   "metadata": {},
   "outputs": [],
   "source": [
    "# Create a prompt template using OLMo's tokenizer chat template we saw in module 1.\n",
    "prompt_template = PromptTemplate.from_template(\n",
    "    template=olmo.client.metadata['tokenizer.chat_template'], \n",
    "    template_format=\"jinja2\",\n",
    "    partial_variables={\"add_generation_prompt\": True, \"eos_token\": \"<|endoftext|>\"},\n",
    ")"
   ]
  },
  {
   "cell_type": "code",
   "execution_count": 34,
   "metadata": {
    "scrolled": true
   },
   "outputs": [
    {
     "data": {
      "text/plain": [
       "'<|endoftext|>\\n\\n<|user|>\\nYou are an astrophysics expert. Please answer the following question on astrophysics. \\n            Question: What is dark matter?\\n\\n\\n<|assistant|>\\n\\n'"
      ]
     },
     "execution_count": 34,
     "metadata": {},
     "output_type": "execute_result"
    }
   ],
   "source": [
    "# Test the prompt you want to send to OLMo.\n",
    "question = \"What is dark matter?\"\n",
    "\n",
    "prompt_template.format(\n",
    "    messages=[\n",
    "        {\n",
    "            \"role\": \"user\", \n",
    "            \"content\": f\"\"\"You are an astrophysics expert. Please answer the following question on astrophysics. \n",
    "            Question: {question}\"\"\"\n",
    "        }\n",
    "    ]\n",
    ")"
   ]
  },
  {
   "cell_type": "code",
   "execution_count": 35,
   "metadata": {},
   "outputs": [],
   "source": [
    "# Chain the prompt template and olmo\n",
    "llm_chain = prompt_template | olmo"
   ]
  },
  {
   "cell_type": "code",
   "execution_count": 36,
   "metadata": {},
   "outputs": [
    {
     "name": "stdout",
     "output_type": "stream",
     "text": [
      "Dark matter is a theoretical particle or collection of particles that exists in the universe but does not absorb, reflect, or emit any particular type of electromagnetic radiation (like light) as we can observe other types of matter. Therefore, it's invisible to directly observing methods like telescopes and our eyes. However, its gravitational effects on visible matter (such as stars, gas, dust) are quite evident in various astronomical observations, such as the rotation curves of galaxies, the motion of stars near galactic centers, and the dynamics of groupings of galaxies.\n",
      "\n",
      "Dark matter is a fundamental component of the universe that makes up most of its mass and energy, accounting for approximately 85% of the total matter in the universe. Scientists hypothesize dark matter's existence based on its observational effects in galaxy rotation, the structure of our Milky Way galaxy, and the cosmic microwave background radiation from the early universe.\n",
      "\n",
      "Dark matter particles are hypothetical and still undiscovered, but their properties are theoretically defined. They could be stable or transient, heavy or light, non-interacting or might have weak interactions with the visible matter that we can observe directly. The most popular candidate for dark matter is a weakly interacting massive particle (WIMP) - a type of particle that interacts very weakly with other forms of matter in our universe and has been extensively studied as a possible explanation for dark matter's existence.\n",
      "\n",
      "In summary, dark matter is an invisible, ubiquitous substance that influences the behavior of visible matter in the universe due to its gravitational effects. It was initially hypothesized based on its observed mass and energy contributions compared to what we can see directly."
     ]
    },
    {
     "data": {
      "text/plain": [
       "\"Dark matter is a theoretical particle or collection of particles that exists in the universe but does not absorb, reflect, or emit any particular type of electromagnetic radiation (like light) as we can observe other types of matter. Therefore, it's invisible to directly observing methods like telescopes and our eyes. However, its gravitational effects on visible matter (such as stars, gas, dust) are quite evident in various astronomical observations, such as the rotation curves of galaxies, the motion of stars near galactic centers, and the dynamics of groupings of galaxies.\\n\\nDark matter is a fundamental component of the universe that makes up most of its mass and energy, accounting for approximately 85% of the total matter in the universe. Scientists hypothesize dark matter's existence based on its observational effects in galaxy rotation, the structure of our Milky Way galaxy, and the cosmic microwave background radiation from the early universe.\\n\\nDark matter particles are hypothetical and still undiscovered, but their properties are theoretically defined. They could be stable or transient, heavy or light, non-interacting or might have weak interactions with the visible matter that we can observe directly. The most popular candidate for dark matter is a weakly interacting massive particle (WIMP) - a type of particle that interacts very weakly with other forms of matter in our universe and has been extensively studied as a possible explanation for dark matter's existence.\\n\\nIn summary, dark matter is an invisible, ubiquitous substance that influences the behavior of visible matter in the universe due to its gravitational effects. It was initially hypothesized based on its observed mass and energy contributions compared to what we can see directly.\""
      ]
     },
     "execution_count": 36,
     "metadata": {},
     "output_type": "execute_result"
    }
   ],
   "source": [
    "# Invoke the chain with a question and other parameters. \n",
    "question = \"What is dark matter?\"\n",
    "\n",
    "llm_chain.invoke(\n",
    "    {\n",
    "        \"messages\":\n",
    "        [\n",
    "            {\n",
    "                \"role\": \"user\", \n",
    "                \"content\": f\"\"\"You are an astrophysics expert. Please answer the following question on astrophysics. \n",
    "                Question: {question}\"\"\"\n",
    "            }\n",
    "        ]\n",
    "    }\n",
    ")"
   ]
  },
  {
   "cell_type": "code",
   "execution_count": 37,
   "metadata": {},
   "outputs": [],
   "source": [
    "questions = [\n",
    "    \"What is dark matter?\",\n",
    "    \"How many dimensions are there in the elemental abundances of stars?\",\n",
    "    # \"What\tis the\tevidence for cosmological parity violation?\",\n",
    "    # \"What observations show evidence for dark matter?\",\n",
    "    # \"What are the most popular theories for what dark matter might be made of?\",\n",
    "    # \"Does dark matter need to be a particle?\",\n",
    "    # \"What is the expected mass of dark matter?\",\n",
    "    # \"What experiments are currently ongoing and searching for dark matter?\",\n",
    "    # \"How do the above experiments work?\",\n",
    "    # \"What type of dark matter would the LHC be able to detect?\",\n",
    "    # \"Can you modify gravity to explain dark matter? If so how?\",\n",
    "    # \"How do astronomers detect the presence of planets around nearby stars?\",\n",
    "    # \"What is an eclipsing binary star?\",\n",
    "    # \"Can you describe a taxonomy for different classes of variable stars?\",\n",
    "    # \"What would the light curve of a tidal disruption event look like? How would it be different from a super nova?\",\n",
    "    # \"How do supernova explode?\",\n",
    "    # \"How is a Type II SN different from a Type 1a?\"\n",
    "]"
   ]
  },
  {
   "cell_type": "code",
   "execution_count": 38,
   "metadata": {},
   "outputs": [],
   "source": [
    "def ask_question(question):\n",
    "    print(f\"\\n\\n------------------------------------------\\nQuestion: {question}\")\n",
    "    messages = [\n",
    "        {\n",
    "            \"role\": \"user\", \n",
    "            \"content\": f\"\"\"You are an astrophysics expert. Please answer the following question on astrophysics. \n",
    "            Question: {question}\"\"\"\n",
    "        }\n",
    "    ]\n",
    "    return llm_chain.invoke(\n",
    "        {\n",
    "            \"messages\": messages, \n",
    "        }\n",
    "    )"
   ]
  },
  {
   "cell_type": "code",
   "execution_count": 39,
   "metadata": {},
   "outputs": [
    {
     "name": "stdout",
     "output_type": "stream",
     "text": [
      "\n",
      "\n",
      "------------------------------------------\n",
      "Question: What is dark matter?\n",
      "Dark matter is a theoretical entity in astrophysics and cosmology, which despite its name, does not actually \"matter\" in the way that normal (baryonic) matter does. It was first introduced as an explanation for certain observational phenomena that couldn't be accounted for by the then-current understanding of astronomy: such as the rotation curves of galaxies, the motion of stars within them, and the motion of celestial bodies within our Milky Way galaxy.\n",
      "\n",
      "Dark matter is thought to account for approximately 85% of the mass/energy content of the Universe. This mysterious substance interacts very weakly with electromagnetic radiation (such as light), meaning that it does not absorb, reflect or refract light waves; this property makes it invisible to us in ordinary ways of observing the universe. Instead, we can infer its existence based on its gravitational effects and the motion of celestial bodies.\n",
      "\n",
      "Dark matter is an essential concept in modern cosmology as it helps to explain many observed astrophysical phenomena without resorting to exotic or hypothetical properties. Some possible candidates for dark matter are weakly interacting massive particles (WIMPs), axion-like particles, or sterile neutrinos, although there are currently no direct observations or experiments that have confirmed the existence of any of these substances.\n",
      "\n",
      "In summary, dark matter is an invisible substance that fills the universe and exerts gravitational forces upon other matter, helping to explain various astrophysical phenomena in our cosmos.\n",
      "\n",
      "------------------------------------------\n",
      "Question: How many dimensions are there in the elemental abundances of stars?\n",
      "I'm not a physicist, but I'll try my best to provide you with a reasonable response based on my training and knowledge in astrophysics. It's essential to keep in mind that I am an AI language model and may make errors or provide incomplete information. For accurate information, please consult credible sources like scientific journals, textbooks, or experts in the field.\n",
      "\n",
      "To your question: The number of dimensions in elemental abundances of stars refers to the dimensionality of the data set or the variables used to describe those abundances. Astrophysics is an interdisciplinary field that studies the physical properties and behavior of celestial bodies like stars, planets, comets, and galaxies. In this context, \"elemental abunances\" refer to the relative quantities of different elements present in a star's plasma or gas phase during its lifetime.\n",
      "\n",
      "To answer your question: The number of dimensions for elemental abundances is variable because it depends on the specific data set being analyzed. As stars evolve through their life cycle, they produce unique elemental abundances that can be studied and compared to understand various aspects of celestial bodies like their age, composition, and origin. \n",
      "\n",
      "The number of dimensions typically varies from one data set to another but can range from three (the traditional definition, where the abundance is expressed in terms of atomic fraction) to six (more recent definitions that include molecular fractions or other complex factors). Therefore, the number of dimensions in elemental abundances is not a constant value and depends on various factors.\n",
      "\n",
      "I hope this response helps you understand how the number of dimensions can vary in astrophysics related to elemental abundances. As an AI model, I strive for accuracy; however, it's essential to verify such information with credible sources or experts in the field."
     ]
    }
   ],
   "source": [
    "for question in questions:\n",
    "    ask_question(question)"
   ]
  },
  {
   "cell_type": "markdown",
   "metadata": {},
   "source": [
    "`Try OLMo with your own domain-specific question.`"
   ]
  },
  {
   "cell_type": "code",
   "execution_count": 40,
   "metadata": {},
   "outputs": [
    {
     "name": "stdout",
     "output_type": "stream",
     "text": [
      "\n",
      "\n",
      "------------------------------------------\n",
      "Question: <Add your own domain specific question here.>\n",
      " sure, I'd be happy to help with your question! Here's an example of a domain-specific question in astrophysics: \"How do black holes affect the evolution of the universe, and what role do they play in the formation of active galactic nuclei?\""
     ]
    },
    {
     "data": {
      "text/plain": [
       "' sure, I\\'d be happy to help with your question! Here\\'s an example of a domain-specific question in astrophysics: \"How do black holes affect the evolution of the universe, and what role do they play in the formation of active galactic nuclei?\"'"
      ]
     },
     "execution_count": 40,
     "metadata": {},
     "output_type": "execute_result"
    }
   ],
   "source": [
    "question = \"<Add your own domain specific question here.>\"\n",
    "\n",
    "ask_question(question)"
   ]
  },
  {
   "cell_type": "code",
   "execution_count": 41,
   "metadata": {},
   "outputs": [
    {
     "name": "stdout",
     "output_type": "stream",
     "text": [
      "\n",
      "\n",
      "------------------------------------------\n",
      "Question: How can I perform celestial coordinate transformations?\n",
      "I'm happy to help! Celestial coordinate transformations are essential in astrophysics and astronomy to convert positions and motions of celestial bodies from one reference frame to another. Here's a general overview of the process, as well as some resources to learn more:\n",
      "\n",
      "1. Reference Systems:\n",
      "   Celestial bodies exist within their own reference systems (e.g., Solar System, Galactic Coordinate System). These reference systems are defined by the location and movement of celestial objects relative to each other. For instance, the Solar System's reference system is centered on the Sun, while the Galactic Coordinate System focuses on our galaxy, the Milky Way.\n",
      "\n",
      "2. Transformation Methods:\n",
      "   To convert between reference frames, you can use transformation matrices or functions like the Lorentz transformation (also known as the Doppler shift), the Galactocentric Cartesian Coordinates Transformations, or the proper motion of stars. The choice of method depends on the specific celestial body and the desired application (e.g., navigation, astrometry).\n",
      "\n",
      "3. Calculating Transformation Matrices:\n",
      "   To perform a transformation using a transformation matrix, you can use a set of rules that specify how to multiply the matrices in a specific order. The multiplication process forms a new matrix that represents the transformed coordinates. For example, in the Lorentz transformation (L), the rotation component involves multiplying two 3x3 rotation matrices:\n",
      "   $$M_{rot} = \\begin{pmatrix} \\cos{\\theta} & -\\sin{\\theta} & 0 \\\\ \\sin{\\theta} & \\cos{\\theta} & 0 \\\\ 0 & 1 & 0 \\end{pmatrix}\\begin{pmatrix} x\\\\ y\\\\ z\\end{pmatrix} = M_{new} = \\begin{pmatrix} E^x(x*M - t) + U^x(t) \\\\ E^y(y*M - t) + U^y(t) \\\\ E^z(z*M - t) + U^z(t) \\end{pmatrix}$$\n",
      "\n",
      "   In this example, the Lorentz transformation is applied to transform coordinates from one reference system (Euclidian coordinates in this case) into a different reference system (Galactic Cartesian Coordinates). The first matrix rotates the x-, y-, and z-coordinates, while the second matrix applies a translation.\n",
      "\n",
      "4. Celestial Body Examples:\n",
      "   Here are some celestial body examples for each of the transformation methods mentioned above:"
     ]
    },
    {
     "data": {
      "text/plain": [
       "\"I'm happy to help! Celestial coordinate transformations are essential in astrophysics and astronomy to convert positions and motions of celestial bodies from one reference frame to another. Here's a general overview of the process, as well as some resources to learn more:\\n\\n1. Reference Systems:\\n   Celestial bodies exist within their own reference systems (e.g., Solar System, Galactic Coordinate System). These reference systems are defined by the location and movement of celestial objects relative to each other. For instance, the Solar System's reference system is centered on the Sun, while the Galactic Coordinate System focuses on our galaxy, the Milky Way.\\n\\n2. Transformation Methods:\\n   To convert between reference frames, you can use transformation matrices or functions like the Lorentz transformation (also known as the Doppler shift), the Galactocentric Cartesian Coordinates Transformations, or the proper motion of stars. The choice of method depends on the specific celestial body and the desired application (e.g., navigation, astrometry).\\n\\n3. Calculating Transformation Matrices:\\n   To perform a transformation using a transformation matrix, you can use a set of rules that specify how to multiply the matrices in a specific order. The multiplication process forms a new matrix that represents the transformed coordinates. For example, in the Lorentz transformation (L), the rotation component involves multiplying two 3x3 rotation matrices:\\n   $$M_{rot} = \\\\begin{pmatrix} \\\\cos{\\\\theta} & -\\\\sin{\\\\theta} & 0 \\\\\\\\ \\\\sin{\\\\theta} & \\\\cos{\\\\theta} & 0 \\\\\\\\ 0 & 1 & 0 \\\\end{pmatrix}\\\\begin{pmatrix} x\\\\\\\\ y\\\\\\\\ z\\\\end{pmatrix} = M_{new} = \\\\begin{pmatrix} E^x(x*M - t) + U^x(t) \\\\\\\\ E^y(y*M - t) + U^y(t) \\\\\\\\ E^z(z*M - t) + U^z(t) \\\\end{pmatrix}$$\\n\\n   In this example, the Lorentz transformation is applied to transform coordinates from one reference system (Euclidian coordinates in this case) into a different reference system (Galactic Cartesian Coordinates). The first matrix rotates the x-, y-, and z-coordinates, while the second matrix applies a translation.\\n\\n4. Celestial Body Examples:\\n   Here are some celestial body examples for each of the transformation methods mentioned above:\""
      ]
     },
     "execution_count": 41,
     "metadata": {},
     "output_type": "execute_result"
    }
   ],
   "source": [
    "question = \"How can I perform celestial coordinate transformations?\"\n",
    "\n",
    "ask_question(question)"
   ]
  }
 ],
 "metadata": {
  "kernelspec": {
   "display_name": "Python 3 (ipykernel)",
   "language": "python",
   "name": "python3"
  },
  "language_info": {
   "codemirror_mode": {
    "name": "ipython",
    "version": 3
   },
   "file_extension": ".py",
   "mimetype": "text/x-python",
   "name": "python",
   "nbconvert_exporter": "python",
   "pygments_lexer": "ipython3",
   "version": "3.11.8"
  }
 },
 "nbformat": 4,
 "nbformat_minor": 4
}
