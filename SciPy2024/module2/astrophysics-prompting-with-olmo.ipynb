{
 "cells": [
  {
   "cell_type": "markdown",
   "metadata": {},
   "source": [
    "# Astrophysics Prompting with OLMo"
   ]
  },
  {
   "cell_type": "markdown",
   "metadata": {},
   "source": [
    "We collected a set of questions from an astrophysicist:\n",
    "* What is dark matter?\n",
    "* How many dimensions are there in the elemental abundances of stars?\n",
    "* What is the evidence for cosmological\tparity violation?\n",
    "* What observations show evidence for dark matter?\n",
    "* What are the most popular theories for what dark matter might be made of?\n",
    "* Does dark matter need to be a particle?\n",
    "* What is the expected mass of dark matter?\n",
    "* What experiments are currently ongoing and searching for dark matter?\n",
    "* How do the above experiments work?\n",
    "* What type of dark matter would the LHC be able to detect?\n",
    "* Can you modify gravity to explain dark matter? If so how?\n",
    "* How do astronomers detect the presence of planets around nearby stars?\n",
    "* What is an eclipsing binary star?\n",
    "* Can you describe a taxonomy for different classes of variable stars?\n",
    "* What would the light curve of a tidal disruption event look like? How would it be different from a supernova?\n",
    "* How do supernova explode?\n",
    "* How is a Type II SN different from a Type 1a?\n",
    "\n",
    "\n",
    "Let's analyze how OLMo does without any additional context. "
   ]
  },
  {
   "cell_type": "code",
   "execution_count": 33,
   "metadata": {},
   "outputs": [
    {
     "name": "stdout",
     "output_type": "stream",
     "text": [
      "\u001b[1m\u001b[36mAstropy-RAG\u001b[m\u001b[m\n",
      "Astropy-RAG.zip\n",
      "RAG based model.pptx\n",
      "astrophysics-prompting-with-olmo.ipynb\n",
      "domain-specific-question-answering.ipynb\n",
      "embeddings.ipynb\n",
      "index.md\n",
      "rag-based-llms.ipynb\n"
     ]
    }
   ],
   "source": [
    "!ls"
   ]
  },
  {
   "cell_type": "code",
   "execution_count": 22,
   "metadata": {},
   "outputs": [],
   "source": [
    "import langchain\n",
    "import textwrap"
   ]
  },
  {
   "cell_type": "code",
   "execution_count": 17,
   "metadata": {},
   "outputs": [],
   "source": [
    "from langchain import PromptTemplate\n",
    "from llama_cpp import Llama"
   ]
  },
  {
   "cell_type": "code",
   "execution_count": 18,
   "metadata": {},
   "outputs": [],
   "source": [
    "from langchain_community.llms import LlamaCpp\n",
    "from langchain_core.callbacks import StreamingStdOutCallbackHandler"
   ]
  },
  {
   "cell_type": "code",
   "execution_count": 7,
   "metadata": {
    "scrolled": true
   },
   "outputs": [],
   "source": [
    "# Make sure the model path is correct for your system!\n",
    "# TODO: Fix model path to cache folder\n",
    "olmo = LlamaCpp(\n",
    "    model_path=\"../../resources/models/OLMo-7B-Instruct-GGUF/OLMo-7B-Instruct-Q4_K_M.gguf\",\n",
    "    temperature=0.8,\n",
    "    verbose=False,  \n",
    ")"
   ]
  },
  {
   "cell_type": "code",
   "execution_count": 8,
   "metadata": {},
   "outputs": [],
   "source": [
    "# Create a prompt template using OLMo's tokenizer chat template we saw in module 1.\n",
    "prompt_template = PromptTemplate.from_template(\n",
    "    template=olmo.client.metadata['tokenizer.chat_template'], \n",
    "    template_format=\"jinja2\"\n",
    ")"
   ]
  },
  {
   "cell_type": "code",
   "execution_count": 21,
   "metadata": {
    "scrolled": true
   },
   "outputs": [
    {
     "data": {
      "text/plain": [
       "'<|endoftext|>\\n\\n<|user|>\\nYou are an astrophysics expert. Please answer the following question on astrophysics. \\n            Question: What is dark matter?\\n\\n\\n<|assistant|>\\n\\n'"
      ]
     },
     "execution_count": 21,
     "metadata": {},
     "output_type": "execute_result"
    }
   ],
   "source": [
    "# Test the prompt you want to send to OLMo.\n",
    "question = \"What is dark matter?\"\n",
    "\n",
    "prompt_template.format(\n",
    "    messages=[\n",
    "        {\n",
    "            \"role\": \"user\", \n",
    "            \"content\": f\"\"\"You are an astrophysics expert. Please answer the following question on astrophysics. \n",
    "            Question: {question}\"\"\"\n",
    "        }\n",
    "    ], \n",
    "    add_generation_prompt=True, \n",
    "    eos_token=\"<|endoftext|>\"\n",
    ")"
   ]
  },
  {
   "cell_type": "code",
   "execution_count": 15,
   "metadata": {},
   "outputs": [],
   "source": [
    "# Chain the prompt template and olmo\n",
    "llm_chain = prompt_template | olmo"
   ]
  },
  {
   "cell_type": "code",
   "execution_count": 20,
   "metadata": {},
   "outputs": [
    {
     "name": "stdout",
     "output_type": "stream",
     "text": [
      "Sure! I'd be happy to help you understand what dark matter is in astrophysics. Dark matter is a theoretical component of the universe that accounts for approximately 85% of its total mass-energy density and has yet to be directly observed or confirmed through traditional methods. Scientists infer its existence due to the strong effects it has on the way galaxies rotate, the motion of stars within their respective systems, and the distribution of masses within an entire galaxy.\n",
      "\n",
      "While dark matter is a mysterious component in astrophysics, there are several theories that attempt to explain its existence based on available data:\n",
      "\n",
      "1. WIMPs (Weakly Interacting Massive Particles) - These are a type of weakly interacting massive particle, the most common hypothesis for dark matter. They interact very weakly with ordinary matter and do not emit or absorb energy in any way that can be detected by current technology. However, because they have mass, their gravitational influence is believed to dominate over the more energetic forces associated with electromagnetic radiation and other forms of interaction.\n",
      "\n",
      "2. Axion-like particles - Another promising hypothesis for dark matter is Axion-like Particles (ALPs). These hypothetical particles share some similarities with WIMPs but differ in how they interact with other subatomic particles."
     ]
    },
    {
     "data": {
      "text/plain": [
       "\"Sure! I'd be happy to help you understand what dark matter is in astrophysics. Dark matter is a theoretical component of the universe that accounts for approximately 85% of its total mass-energy density and has yet to be directly observed or confirmed through traditional methods. Scientists infer its existence due to the strong effects it has on the way galaxies rotate, the motion of stars within their respective systems, and the distribution of masses within an entire galaxy.\\n\\nWhile dark matter is a mysterious component in astrophysics, there are several theories that attempt to explain its existence based on available data:\\n\\n1. WIMPs (Weakly Interacting Massive Particles) - These are a type of weakly interacting massive particle, the most common hypothesis for dark matter. They interact very weakly with ordinary matter and do not emit or absorb energy in any way that can be detected by current technology. However, because they have mass, their gravitational influence is believed to dominate over the more energetic forces associated with electromagnetic radiation and other forms of interaction.\\n\\n2. Axion-like particles - Another promising hypothesis for dark matter is Axion-like Particles (ALPs). These hypothetical particles share some similarities with WIMPs but differ in how they interact with other subatomic particles.\""
      ]
     },
     "execution_count": 20,
     "metadata": {},
     "output_type": "execute_result"
    }
   ],
   "source": [
    "# Invoke the chain with a question and other parameters. \n",
    "\n",
    "question = \"What is dark matter?\"\n",
    "\n",
    "llm_chain.invoke(\n",
    "    {\n",
    "        \"messages\":\n",
    "        [\n",
    "            {\n",
    "                \"role\": \"user\", \n",
    "                \"content\": f\"\"\"You are an astrophysics expert. Please answer the following question on astrophysics. \n",
    "                Question: {question}\"\"\"\n",
    "            }\n",
    "        ], \n",
    "        \"add_generation_prompt\": True, \n",
    "        \"eos_token\": \"<|endoftext|>\",\n",
    "    },\n",
    "    config={\n",
    "        'callbacks' : [StreamingStdOutCallbackHandler()]\n",
    "    }\n",
    ")"
   ]
  },
  {
   "cell_type": "code",
   "execution_count": 27,
   "metadata": {},
   "outputs": [],
   "source": [
    "questions = [\n",
    "    \"What is dark matter?\",\n",
    "    \"How many dimensions are there in the elemental abundances of stars?\",\n",
    "    # \"What\tis\tthe\tevidence\tfor\tcosmological\tparity\tviolation?\",\n",
    "    # \"What observations show evidence for dark matter?\",\n",
    "    # \"What are the most popular theories for what dark matter might be made of?\",\n",
    "    # \"Does dark matter need to be a particle?\",\n",
    "    # \"What is the expected mass of dark matter?\",\n",
    "    # \"What experiments are currently ongoing and searching for dark matter?\",\n",
    "    # \"How do the above experiments work?\",\n",
    "    # \"What type of dark matter would the LHC be able to detect?\",\n",
    "    # \"Can you modify gravity to explain dark matter? If so how?\",\n",
    "    # \"How do astronomers detect the presence of planets around nearby stars?\",\n",
    "    # \"What is an eclipsing binary star?\",\n",
    "    # \"Can you describe a taxonomy for different classes of variable stars?\",\n",
    "    # \"What would the light curve of a tidal disruption event look like? How would it be different from a super nova?\",\n",
    "    # \"How do supernova explode?\",\n",
    "    # \"How is a Type II SN different from a Type 1a?\"\n",
    "]"
   ]
  },
  {
   "cell_type": "code",
   "execution_count": 32,
   "metadata": {},
   "outputs": [
    {
     "name": "stdout",
     "output_type": "stream",
     "text": [
      "\n",
      "\n",
      "------------------------------------------\n",
      "Question: What is dark matter?\n",
      "Dark matter is a theoretical entity that, according to current observations and theories in astrophysics, makes up approximately 85% of the matter content in the universe. In contrast to the observable matter (stars, gas, dust) which emits or reflects light, dark matter does not. Consequently, its presence can only be inferred by its gravitational effects on visible matter, radiation, and large-scale structure in the cosmos.\n",
      "\n",
      "Dark matter is an essential component of our understanding of cosmic structure formation. Astronomers and physicists speculate that it forms the vast majority of the universe's mass, shaping the overall evolution of cosmic structures like galaxies, clusters of galaxies, and superclusters. Although its nature remains a mystery, many hypotheses have been put forth to explain the observed properties of dark matter.\n",
      "\n",
      "Dark matter is typically characterized by three properties: 1) Abundance: it makes up 85% of the matter content in the universe; 2) Inertia: as mass, it exerts an attractive gravitational force on visible matter; 3) Non-interacting: dark matter particles don't interact with each other via weak interactions.\n",
      "\n",
      "Despite extensive research and efforts to detect dark matter particles directly or indirectly, no experimental evidence of their existence has been found so far.\n",
      "\n",
      "------------------------------------------\n",
      "Question: How many dimensions are there in the elemental abundances of stars?\n",
      "I'm an AI language model, so I cannot provide a definitive or accurate answer to this question off-the-cuff. However, I can give you an idea about the topic and point you towards relevant resources where you might find the information you seek.\n",
      "\n",
      "In astrophysics, astronomical objects like stars have their internal composition described by the set of numbers called their \"elemental abundances.\" These abundances are measured in parts per million (ppm) or parts per billion (ppb), representing the relative number of an element compared to the mass of the star. The elemental abundances can be different for various stars, indicating that each star has distinct chemical composition.\n",
      "\n",
      "As of now, our understanding of astrophysics indicates that there are four fundamental dimensions: three spatial dimensions and one temporal dimension. Thus, it is reasonable to assume that the elemental abundance of a star cannot have more than four dimensions. This limitation could potentially be extended by including additional factors like the stars' spin or orbital motion (which would introduce an extra spatial dimension), but that's not typical in our understanding of astrophysics.\n",
      "\n",
      "I hope this answer satisfies your curiosity about the number of dimensions in elemental abundances of stars and leads you to explore more relevant resources. If you're looking for more information regarding"
     ]
    }
   ],
   "source": [
    "def ask_question(question):\n",
    "    print(f\"\\n\\n------------------------------------------\\nQuestion: {question}\")\n",
    "    messages = [\n",
    "        {\n",
    "            \"role\": \"user\", \n",
    "            \"content\": f\"\"\"You are an astrophysics expert. Please answer the following question on astrophysics. \n",
    "            Question: {question}\"\"\"\n",
    "        }\n",
    "    ]\n",
    "    return llm_chain.invoke(\n",
    "        {\n",
    "            \"messages\": messages, \n",
    "            \"add_generation_prompt\": True, \n",
    "            \"eos_token\": \"<|endoftext|>\",\n",
    "        },\n",
    "        config={\n",
    "            'callbacks' : [StreamingStdOutCallbackHandler()]\n",
    "        }\n",
    "    )\n",
    "\n",
    "for question in questions:\n",
    "    ask_question(question)"
   ]
  },
  {
   "cell_type": "markdown",
   "metadata": {},
   "source": [
    "`Try OLMo with your own domain-specific question.`"
   ]
  },
  {
   "cell_type": "code",
   "execution_count": null,
   "metadata": {},
   "outputs": [],
   "source": [
    "question = \"<Add your own domain specific question here.>\"\n",
    "\n",
    "ask_question(question)"
   ]
  }
 ],
 "metadata": {
  "kernelspec": {
   "display_name": "Python 3 (ipykernel)",
   "language": "python",
   "name": "python3"
  },
  "language_info": {
   "codemirror_mode": {
    "name": "ipython",
    "version": 3
   },
   "file_extension": ".py",
   "mimetype": "text/x-python",
   "name": "python",
   "nbconvert_exporter": "python",
   "pygments_lexer": "ipython3",
   "version": "3.11.8"
  }
 },
 "nbformat": 4,
 "nbformat_minor": 4
}
