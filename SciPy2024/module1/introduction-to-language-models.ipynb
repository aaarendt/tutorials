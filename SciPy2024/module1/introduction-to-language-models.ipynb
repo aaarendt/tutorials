{
 "cells": [
  {
   "cell_type": "markdown",
   "metadata": {},
   "source": [
    "# Introduction to Language Models"
   ]
  },
  {
   "cell_type": "markdown",
   "metadata": {},
   "source": [
    "Language models are a type of machine learning model trained to learn a probability distribution over words. They've been used for various applications, including text generation, question answering, text summarization, language translation, and speech recognition. \n",
    "\n",
    "These models have existed since the 1980s and are mainly categorized into two kinds: (1) **statistical models** that use statistical techniques such as N-grams, hidden markov models, etc., and (2) **neural models** that use neural networks for training.\n",
    "\n",
    "Humans are inherently good at learning the probability of the next word. For example, if asked which of the below sentences has a higher probability for you to encounter, we know that the probability of the first sentence is greater than the second. "
   ]
  },
  {
   "cell_type": "markdown",
   "metadata": {},
   "source": [
    "$$\n",
    "  p(\\text{jupiter is the largest planet}) > p(\\text{jupiter is the largest moon})\n",
    "$$"
   ]
  },
  {
   "cell_type": "markdown",
   "metadata": {},
   "source": [
    "Language modeling aims to train models that can do well in tasks like the above statement. \n",
    "\n"
   ]
  },
  {
   "cell_type": "markdown",
   "metadata": {},
   "source": [
    "## N-Gram"
   ]
  },
  {
   "cell_type": "markdown",
   "metadata": {},
   "source": [
    "> An N-gram is a sequence of N words (or tokens.)"
   ]
  },
  {
   "cell_type": "markdown",
   "metadata": {},
   "source": [
    "Take the sentence : `The Sun is the Solar System's star and by far its most massive component. `"
   ]
  },
  {
   "cell_type": "markdown",
   "metadata": {},
   "source": [
    "A unigram, or 1-gram for the above sentence would be: `\"The\", \"Sun\", \"is\", \"the\", \"Solar\", \"Systems\", \"star\", \"and\", \"by\", \"far\", \"its\", \"most\", \"massive\", \"component\"`\n",
    "\n",
    "A bigram, or 2-gram for the above sentence would be: `\"The Sun\", \"Sun is\", \"is the\", \"the Solar\", \"Solar Systems\", \"Systems star\", \"star and\", \"and by\", \"by far\", \"far its\", \"its most\", \"most massive\", \"massive component\"`"
   ]
  },
  {
   "cell_type": "markdown",
   "metadata": {},
   "source": [
    "N-gram models consider the probability of the given word, given the (N-1) previous words. For trigrams, they consider the probability of a word given the two previous words. "
   ]
  },
  {
   "cell_type": "markdown",
   "metadata": {},
   "source": [
    "## Building an N-Gram Language Model"
   ]
  },
  {
   "cell_type": "markdown",
   "metadata": {},
   "source": [
    "To demystify how language models in principle, we will **build an n-gram language model** from scratch in Python. "
   ]
  },
  {
   "cell_type": "markdown",
   "metadata": {},
   "source": [
    "We will be using [arXiv Dataset](https://www.kaggle.com/datasets/Cornell-University/arxiv?resource=download) for this tutorial, in particular we will use the abstracts for all the papers classified under the astrophysics category, i.e., with category value of `astro-ph`. \n",
    "\n",
    "The raw dataset has already been cleaned and stored in a pickle file for you. "
   ]
  },
  {
   "cell_type": "code",
   "execution_count": 250,
   "metadata": {},
   "outputs": [],
   "source": [
    "from collections import Counter, defaultdict\n",
    "import nltk\n",
    "import random\n",
    "import re\n",
    "import numpy as np\n",
    "import pandas as pd\n"
   ]
  },
  {
   "cell_type": "code",
   "execution_count": 169,
   "metadata": {},
   "outputs": [],
   "source": [
    "astro_ph_df = pd.read_pickle(\"../../resources/astro-ph-arXiv-abstracts.pkl\")"
   ]
  },
  {
   "cell_type": "code",
   "execution_count": 170,
   "metadata": {},
   "outputs": [
    {
     "data": {
      "text/html": [
       "<div>\n",
       "<style scoped>\n",
       "    .dataframe tbody tr th:only-of-type {\n",
       "        vertical-align: middle;\n",
       "    }\n",
       "\n",
       "    .dataframe tbody tr th {\n",
       "        vertical-align: top;\n",
       "    }\n",
       "\n",
       "    .dataframe thead th {\n",
       "        text-align: right;\n",
       "    }\n",
       "</style>\n",
       "<table border=\"1\" class=\"dataframe\">\n",
       "  <thead>\n",
       "    <tr style=\"text-align: right;\">\n",
       "      <th></th>\n",
       "      <th>id</th>\n",
       "      <th>title</th>\n",
       "      <th>abstract</th>\n",
       "    </tr>\n",
       "  </thead>\n",
       "  <tbody>\n",
       "    <tr>\n",
       "      <th>0</th>\n",
       "      <td>712.2086</td>\n",
       "      <td>On weak and strong magnetohydrodynamic turbulence</td>\n",
       "      <td>Recent numerical and observational studies c...</td>\n",
       "    </tr>\n",
       "    <tr>\n",
       "      <th>1</th>\n",
       "      <td>712.2103</td>\n",
       "      <td>Hilltop Curvatons</td>\n",
       "      <td>We study ``hilltop'' curvatons that evolve o...</td>\n",
       "    </tr>\n",
       "    <tr>\n",
       "      <th>2</th>\n",
       "      <td>712.211</td>\n",
       "      <td>Near-field cosmology with the VLT</td>\n",
       "      <td>With the arrival of wide-field imagers on me...</td>\n",
       "    </tr>\n",
       "    <tr>\n",
       "      <th>3</th>\n",
       "      <td>712.2111</td>\n",
       "      <td>The prototype colliding-wind pinwheel WR 104</td>\n",
       "      <td>Results from the most extensive study of the...</td>\n",
       "    </tr>\n",
       "    <tr>\n",
       "      <th>4</th>\n",
       "      <td>712.2116</td>\n",
       "      <td>X-ray spectral evolution of TeV BL Lac objects...</td>\n",
       "      <td>Many of the extragalactic sources detected i...</td>\n",
       "    </tr>\n",
       "  </tbody>\n",
       "</table>\n",
       "</div>"
      ],
      "text/plain": [
       "         id                                              title  \\\n",
       "0  712.2086  On weak and strong magnetohydrodynamic turbulence   \n",
       "1  712.2103                                  Hilltop Curvatons   \n",
       "2   712.211                  Near-field cosmology with the VLT   \n",
       "3  712.2111       The prototype colliding-wind pinwheel WR 104   \n",
       "4  712.2116  X-ray spectral evolution of TeV BL Lac objects...   \n",
       "\n",
       "                                            abstract  \n",
       "0    Recent numerical and observational studies c...  \n",
       "1    We study ``hilltop'' curvatons that evolve o...  \n",
       "2    With the arrival of wide-field imagers on me...  \n",
       "3    Results from the most extensive study of the...  \n",
       "4    Many of the extragalactic sources detected i...  "
      ]
     },
     "metadata": {},
     "output_type": "display_data"
    },
    {
     "data": {
      "text/plain": [
       "'There are 331564 papers in our dataset.'"
      ]
     },
     "execution_count": 170,
     "metadata": {},
     "output_type": "execute_result"
    }
   ],
   "source": [
    "display(astro_ph_df.head())\n",
    "f\"There are {astro_ph_df.shape[0]} papers in our dataset.\""
   ]
  },
  {
   "cell_type": "markdown",
   "metadata": {},
   "source": [
    "For demonstration purposes, we won't use the entire dataset, but only sample 10000 papers from it. "
   ]
  },
  {
   "cell_type": "code",
   "execution_count": 171,
   "metadata": {},
   "outputs": [],
   "source": [
    "sampled_astro_ph_df = astro_ph_df.sample(10000)\n",
    "assert sampled_astro_ph_df.shape[0] == 10000"
   ]
  },
  {
   "cell_type": "markdown",
   "metadata": {},
   "source": [
    "It's important to clean raw text data because computers, unlike humans, do not know that the word `many` and `Many` mean the same thing. We will use the `nltk` library to clean our raw text as part of data preprocessing."
   ]
  },
  {
   "cell_type": "markdown",
   "metadata": {},
   "source": [
    "### Data Preprocessing"
   ]
  },
  {
   "cell_type": "code",
   "execution_count": 172,
   "metadata": {},
   "outputs": [],
   "source": [
    "# Stitch all abstracts together\n",
    "abstracts = \" \".join(list(sampled_astro_ph_df.abstract))"
   ]
  },
  {
   "cell_type": "code",
   "execution_count": 173,
   "metadata": {
    "scrolled": true
   },
   "outputs": [],
   "source": [
    "# Removing extra spaces\n",
    "abstracts = re.sub(\"\\s+\", \" \", abstracts)"
   ]
  },
  {
   "cell_type": "code",
   "execution_count": 174,
   "metadata": {},
   "outputs": [],
   "source": [
    "# Remove punctuations\n",
    "abstracts = re.sub(\"[^-9A-Za-z ]\", \"\", abstracts)"
   ]
  },
  {
   "cell_type": "code",
   "execution_count": 175,
   "metadata": {
    "scrolled": true
   },
   "outputs": [],
   "source": [
    "# Lowercase all data\n",
    "abstracts = abstracts.lower()"
   ]
  },
  {
   "cell_type": "markdown",
   "metadata": {},
   "source": [
    "\n",
    "An important part of any text processing pipeline is `tokenizers,` which break your unstructured data and natural language text into discrete elements. For this tutorial, we will use nltk's word tokenizer, which can help you separate words and punctuations. "
   ]
  },
  {
   "cell_type": "code",
   "execution_count": 176,
   "metadata": {},
   "outputs": [
    {
     "name": "stderr",
     "output_type": "stream",
     "text": [
      "[nltk_data] Downloading package punkt to /Users/a42/nltk_data...\n",
      "[nltk_data]   Package punkt is already up-to-date!\n"
     ]
    },
    {
     "data": {
      "text/plain": [
       "True"
      ]
     },
     "execution_count": 176,
     "metadata": {},
     "output_type": "execute_result"
    }
   ],
   "source": [
    "# nltk word tokenizer requires Punkt sentence tokenization models.\n",
    "nltk.download('punkt')"
   ]
  },
  {
   "cell_type": "code",
   "execution_count": 115,
   "metadata": {},
   "outputs": [],
   "source": [
    "abstract_tokens = nltk.tokenize.word_tokenize(abstracts)"
   ]
  },
  {
   "cell_type": "code",
   "execution_count": 116,
   "metadata": {
    "scrolled": true
   },
   "outputs": [
    {
     "data": {
      "text/plain": [
       "['understanding',\n",
       " 'the',\n",
       " 'properties',\n",
       " 'of',\n",
       " 'the',\n",
       " 'hot',\n",
       " 'corona',\n",
       " 'is',\n",
       " 'very',\n",
       " 'important']"
      ]
     },
     "execution_count": 116,
     "metadata": {},
     "output_type": "execute_result"
    }
   ],
   "source": [
    "abstract_tokens[:10]"
   ]
  },
  {
   "cell_type": "markdown",
   "metadata": {},
   "source": [
    "Let's also remove stop words that are widely used words (such as \"the,\" \"a,\" \"an,\" or \"in\")."
   ]
  },
  {
   "cell_type": "code",
   "execution_count": 117,
   "metadata": {},
   "outputs": [
    {
     "name": "stderr",
     "output_type": "stream",
     "text": [
      "[nltk_data] Downloading package stopwords to /Users/a42/nltk_data...\n",
      "[nltk_data]   Package stopwords is already up-to-date!\n"
     ]
    },
    {
     "data": {
      "text/plain": [
       "True"
      ]
     },
     "execution_count": 117,
     "metadata": {},
     "output_type": "execute_result"
    }
   ],
   "source": [
    "nltk.download('stopwords')"
   ]
  },
  {
   "cell_type": "code",
   "execution_count": 118,
   "metadata": {},
   "outputs": [],
   "source": [
    "# Remove stop words\n",
    "stopwords = nltk.corpus.stopwords.words('english')"
   ]
  },
  {
   "cell_type": "code",
   "execution_count": 119,
   "metadata": {
    "scrolled": true
   },
   "outputs": [
    {
     "data": {
      "text/plain": [
       "['i', 'me', 'my', 'myself', 'we', 'our', 'ours', 'ourselves', 'you', \"you're\"]"
      ]
     },
     "execution_count": 119,
     "metadata": {},
     "output_type": "execute_result"
    }
   ],
   "source": [
    "stopwords[:10]"
   ]
  },
  {
   "cell_type": "code",
   "execution_count": 120,
   "metadata": {},
   "outputs": [],
   "source": [
    "abstract_tokens = [token for token in abstract_tokens if token not in stopwords]"
   ]
  },
  {
   "cell_type": "markdown",
   "metadata": {},
   "source": [
    "### Trigram model"
   ]
  },
  {
   "cell_type": "markdown",
   "metadata": {},
   "source": [
    "`nltk` package provides an abstraction to build trigrams out of your given text. "
   ]
  },
  {
   "cell_type": "code",
   "execution_count": 121,
   "metadata": {},
   "outputs": [
    {
     "data": {
      "text/plain": [
       "[('Sun', 'is', 'the'),\n",
       " ('is', 'the', 'largest'),\n",
       " ('the', 'largest', 'star'),\n",
       " ('largest', 'star', 'our'),\n",
       " ('star', 'our', 'solar'),\n",
       " ('our', 'solar', 'system'),\n",
       " ('solar', 'system', '.')]"
      ]
     },
     "execution_count": 121,
     "metadata": {},
     "output_type": "execute_result"
    }
   ],
   "source": [
    "list(nltk.trigrams([\"Sun\", \"is\", \"the\", \"largest\", \"star\", \"our\", \"solar\", \"system\", \".\"]))"
   ]
  },
  {
   "cell_type": "code",
   "execution_count": 122,
   "metadata": {},
   "outputs": [],
   "source": [
    "# Initialize a model.\n",
    "model = defaultdict(lambda: defaultdict(lambda: 0))"
   ]
  },
  {
   "cell_type": "code",
   "execution_count": null,
   "metadata": {},
   "outputs": [],
   "source": []
  },
  {
   "cell_type": "code",
   "execution_count": 126,
   "metadata": {},
   "outputs": [],
   "source": [
    "# Compute the frequency of the word given its two previous words.\n",
    "for w1, w2, w3 in nltk.trigrams(abstract_tokens):\n",
    "    model[(w1, w2)][w3] += 1"
   ]
  },
  {
   "cell_type": "markdown",
   "metadata": {},
   "source": [
    "Print possible words given \"black hole\" as a prompt to our language model. Note that the trigram model can tell you the probability of a word given two words"
   ]
  },
  {
   "cell_type": "code",
   "execution_count": 132,
   "metadata": {
    "scrolled": true
   },
   "outputs": [
    {
     "data": {
      "text/plain": [
       "defaultdict(<function __main__.<lambda>.<locals>.<lambda>()>,\n",
       "            {'x-ray': 69,\n",
       "             'candidate': 51,\n",
       "             'populations': 3,\n",
       "             'population': 12,\n",
       "             'spin': 108,\n",
       "             'expanding': 3,\n",
       "             'background': 12,\n",
       "             'present': 21,\n",
       "             'put': 3,\n",
       "             'address': 3,\n",
       "             'observational': 3,\n",
       "             'candidates': 72,\n",
       "             'space-time': 3,\n",
       "             'mergers': 57,\n",
       "             'work': 3,\n",
       "             'nut': 3,\n",
       "             'finally': 3,\n",
       "             'integrable': 3,\n",
       "             'accommodate': 3,\n",
       "             'few-percent': 3,\n",
       "             'review': 3,\n",
       "             'bbh': 30,\n",
       "             'systems': 42,\n",
       "             'one': 9,\n",
       "             'accretion': 102,\n",
       "             'spins': 24,\n",
       "             'components': 3,\n",
       "             'mass': 429,\n",
       "             'properties': 15,\n",
       "             'average': 3,\n",
       "             'sun': 3,\n",
       "             'progenitor': 6,\n",
       "             'massive': 15,\n",
       "             'binaries': 99,\n",
       "             'quantitative': 3,\n",
       "             'research': 6,\n",
       "             'andor': 3,\n",
       "             'orbit': 3,\n",
       "             'solution': 9,\n",
       "             'via': 6,\n",
       "             'lambdaf': 3,\n",
       "             'quantum': 3,\n",
       "             'formation': 51,\n",
       "             'essentially': 3,\n",
       "             'originates': 3,\n",
       "             'cosmological': 3,\n",
       "             'spacetime': 6,\n",
       "             'newman-janis': 3,\n",
       "             'exists': 3,\n",
       "             'quintessence': 3,\n",
       "             'charge': 9,\n",
       "             'also': 9,\n",
       "             'binary': 66,\n",
       "             'growth': 57,\n",
       "             'bh': 129,\n",
       "             'recent': 3,\n",
       "             'expected': 9,\n",
       "             'masses': 138,\n",
       "             '-dimensions': 3,\n",
       "             'pbh': 9,\n",
       "             'particular': 12,\n",
       "             'investigate': 3,\n",
       "             'generically': 3,\n",
       "             'rotating': 3,\n",
       "             'ejection': 3,\n",
       "             'smbh': 81,\n",
       "             'paper': 6,\n",
       "             'modified': 6,\n",
       "             'efficient': 6,\n",
       "             'since': 6,\n",
       "             'results': 12,\n",
       "             '-': 21,\n",
       "             'evaporation': 6,\n",
       "             'internal': 3,\n",
       "             'atmosphere': 3,\n",
       "             'radius': 3,\n",
       "             'alteration': 3,\n",
       "             'shadow': 3,\n",
       "             'show': 27,\n",
       "             'rates': 6,\n",
       "             'physics': 12,\n",
       "             'sagittarius': 15,\n",
       "             'consistent': 3,\n",
       "             'numerical': 3,\n",
       "             'simulations': 3,\n",
       "             'galaxy': 12,\n",
       "             'merger': 36,\n",
       "             'high': 3,\n",
       "             'low-mass': 18,\n",
       "             'received': 6,\n",
       "             'center': 30,\n",
       "             'stellar': 6,\n",
       "             'closely': 3,\n",
       "             'spacetimes': 18,\n",
       "             'inside': 3,\n",
       "             'anti': 3,\n",
       "             'sim': 3,\n",
       "             'distribution': 3,\n",
       "             'embedded': 3,\n",
       "             'depending': 3,\n",
       "             'mbh': 21,\n",
       "             'double': 6,\n",
       "             'mbh-': 3,\n",
       "             'generated': 3,\n",
       "             'presence': 9,\n",
       "             'closer': 3,\n",
       "             'allows': 3,\n",
       "             'evolution': 6,\n",
       "             'mtbh': 3,\n",
       "             'resided': 3,\n",
       "             'escapes': 3,\n",
       "             'may': 3,\n",
       "             '9times': 3,\n",
       "             'system': 3,\n",
       "             'recoil': 3,\n",
       "             'epsilon': 3,\n",
       "             'host': 9,\n",
       "             'lx9rm': 3,\n",
       "             'event': 21,\n",
       "             'entropy': 9,\n",
       "             'suggested': 3,\n",
       "             'accretor': 6,\n",
       "             'model': 15,\n",
       "             'magnetosphere': 3,\n",
       "             'free-falling': 3,\n",
       "             'wind': 3,\n",
       "             'birth': 6,\n",
       "             'inclination': 3,\n",
       "             'simulated': 3,\n",
       "             'computed': 3,\n",
       "             'solutions': 12,\n",
       "             'intrinsic': 3,\n",
       "             'surrounded': 6,\n",
       "             'produced': 6,\n",
       "             'way': 6,\n",
       "             'affect': 3,\n",
       "             'core': 3,\n",
       "             'formalism': 3,\n",
       "             'close': 9,\n",
       "             'vary': 3,\n",
       "             'sgr': 12,\n",
       "             'gamma-ray': 3,\n",
       "             'moves': 3,\n",
       "             'new': 3,\n",
       "             'changes': 3,\n",
       "             'spindown': 3,\n",
       "             'sur-rounded': 3,\n",
       "             'damp': 3,\n",
       "             'radiates': 3,\n",
       "             'take': 3,\n",
       "             'substantial': 3,\n",
       "             'would': 3,\n",
       "             'estimated': 3,\n",
       "             'angular': 9,\n",
       "             'scenario': 6,\n",
       "             'dotmrm': 3,\n",
       "             'galactic': 15,\n",
       "             'near-infrared': 3,\n",
       "             'pair': 3,\n",
       "             'dynamo': 3,\n",
       "             'rotates': 3,\n",
       "             'magnetar': 3,\n",
       "             'transient': 6,\n",
       "             'transients': 12,\n",
       "             'smaller': 6,\n",
       "             'hypothesis': 6,\n",
       "             'solar': 12,\n",
       "             'interstellar': 3,\n",
       "             'weak': 3,\n",
       "             'constant': 3,\n",
       "             'neutrino': 3,\n",
       "             'linearized': 3,\n",
       "             'quasinormal': 6,\n",
       "             'initial': 3,\n",
       "             'ie': 3,\n",
       "             'exhibits': 3,\n",
       "             'coalescence': 3,\n",
       "             'fraction': 3,\n",
       "             'perfect': 3,\n",
       "             'responsible': 3,\n",
       "             'origin': 3,\n",
       "             'generally': 6,\n",
       "             'naked': 6,\n",
       "             'progenitors': 3,\n",
       "             'gravitational-wave': 3,\n",
       "             'dark': 9,\n",
       "             'b': 6,\n",
       "             'consider': 3,\n",
       "             'remnants': 6,\n",
       "             'spheroid': 3,\n",
       "             'article': 3,\n",
       "             'environment': 6,\n",
       "             'usually': 3,\n",
       "             'assuming': 6,\n",
       "             'eddington': 3,\n",
       "             'equatorial': 9,\n",
       "             'find': 6,\n",
       "             'suggest': 3,\n",
       "             'long-term': 3,\n",
       "             '--': 3,\n",
       "             'energy': 6,\n",
       "             'launch': 3,\n",
       "             'sources': 9,\n",
       "             'horizon': 12,\n",
       "             'equilibrium': 3,\n",
       "             'dimensionless': 3,\n",
       "             'probably': 3,\n",
       "             'horizons': 6,\n",
       "             'coalescences': 6,\n",
       "             'component': 6,\n",
       "             'perform': 3,\n",
       "             'decreases': 6,\n",
       "             'radial': 3,\n",
       "             'scalar': 3,\n",
       "             'previous': 3,\n",
       "             'likely': 3,\n",
       "             'result': 3,\n",
       "             'provides': 9,\n",
       "             'infinite': 3,\n",
       "             'proximity': 3,\n",
       "             'reaffirm': 3,\n",
       "             'exponentials': 3,\n",
       "             'logarithmic': 3,\n",
       "             'significant': 3,\n",
       "             'located': 3,\n",
       "             'must': 9,\n",
       "             'cluster': 3,\n",
       "             'feedback': 9,\n",
       "             'disagreement': 3,\n",
       "             'applying': 3,\n",
       "             'nsbh': 6,\n",
       "             'waveforms': 3,\n",
       "             'information': 3,\n",
       "             'described': 3,\n",
       "             'explore': 3,\n",
       "             'disks': 3,\n",
       "             'still': 6,\n",
       "             'examined': 3,\n",
       "             'vacuum': 3,\n",
       "             'rotation': 3,\n",
       "             'character': 3,\n",
       "             'obtaining': 3,\n",
       "             'small': 3,\n",
       "             'second': 3,\n",
       "             'quasar': 3,\n",
       "             'kinetic': 3,\n",
       "             'seeds': 27,\n",
       "             'study': 12,\n",
       "             'whereas': 6,\n",
       "             'high-spin': 3,\n",
       "             'images': 3,\n",
       "             'becoming': 3,\n",
       "             'discovered': 3,\n",
       "             'nature': 9,\n",
       "             'production': 9,\n",
       "             'collision': 3,\n",
       "             'conclude': 3,\n",
       "             'formed': 6,\n",
       "             'neutron': 12,\n",
       "             'white': 3,\n",
       "             'ngc': 3,\n",
       "             'using': 3,\n",
       "             'favoured': 3,\n",
       "             'sense': 3,\n",
       "             'quantized': 3,\n",
       "             'known': 6,\n",
       "             'significantly': 3,\n",
       "             'examine': 3,\n",
       "             'central': 3,\n",
       "             'implications': 3,\n",
       "             'dominates': 6,\n",
       "             'black': 3,\n",
       "             'accreting': 9,\n",
       "             'smbbh': 3,\n",
       "             'better': 3,\n",
       "             'uniform': 3,\n",
       "             'short': 6,\n",
       "             'increasing': 3,\n",
       "             'parameters': 9,\n",
       "             'colliding': 3,\n",
       "             'emphextremal': 3,\n",
       "             'emphnaked': 3,\n",
       "             'compute': 3,\n",
       "             'emphthe': 3,\n",
       "             'effective': 3,\n",
       "             'extremal': 3,\n",
       "             'transitional': 3,\n",
       "             'pierced': 6,\n",
       "             'powering': 3,\n",
       "             'detections': 3,\n",
       "             'scale': 3,\n",
       "             'ayon-beato': 3,\n",
       "             'hayward': 3,\n",
       "             'negative': 3,\n",
       "             'according': 3,\n",
       "             'sharply': 3,\n",
       "             'collapse': 3,\n",
       "             'imbh': 3,\n",
       "             'well': 6,\n",
       "             'photoionization': 3,\n",
       "             'non-pulsing': 3,\n",
       "             'process': 3,\n",
       "             'traces': 3,\n",
       "             'use': 3,\n",
       "             'sagittariusa': 3,\n",
       "             'seed': 6,\n",
       "             'sgra': 3,\n",
       "             'cosmic-ray': 3,\n",
       "             'low': 3,\n",
       "             'mrm': 3,\n",
       "             'counterparts': 3,\n",
       "             'highlighted': 3,\n",
       "             'image': 3,\n",
       "             'shadows': 3,\n",
       "             'limit': 6,\n",
       "             'interferometric': 3,\n",
       "             'argue': 3,\n",
       "             'relative': 3,\n",
       "             'interior': 3,\n",
       "             'metrics': 3,\n",
       "             'shape': 3,\n",
       "             'polytropic': 3,\n",
       "             '-mh': 3,\n",
       "             'baryon': 3,\n",
       "             'long-slit': 3,\n",
       "             'derived': 6,\n",
       "             'equally': 3,\n",
       "             'binding': 3,\n",
       "             'identify': 3,\n",
       "             'except': 3,\n",
       "             'natural': 3,\n",
       "             'symmetry': 3,\n",
       "             'extracted': 3,\n",
       "             'thus': 3,\n",
       "             'activity': 15,\n",
       "             'fed': 3,\n",
       "             'currently': 3,\n",
       "             'modot': 3,\n",
       "             'deap-': 3,\n",
       "             'consequence': 3,\n",
       "             'domain': 3,\n",
       "             'shown': 6,\n",
       "             'disrupted': 3,\n",
       "             'spectroscopy': 3,\n",
       "             'nonlocal': 3,\n",
       "             'applicable': 3,\n",
       "             'based': 3,\n",
       "             'forming': 6,\n",
       "             'standard': 3,\n",
       "             'size': 6,\n",
       "             'acts': 3,\n",
       "             'detection': 3,\n",
       "             'shed': 3,\n",
       "             'dm': 3,\n",
       "             'prevents': 3,\n",
       "             'necessarily': 3,\n",
       "             'fit': 3,\n",
       "             'ergosphere': 3,\n",
       "             'illustrate': 3,\n",
       "             'ecg': 3,\n",
       "             'determine': 3,\n",
       "             'although': 9,\n",
       "             'established': 3,\n",
       "             'companion': 3,\n",
       "             'composed': 3,\n",
       "             'typically': 3,\n",
       "             'report': 3,\n",
       "             'x': 3,\n",
       "             'plays': 3,\n",
       "             'interestingly': 3,\n",
       "             'de': 3,\n",
       "             'backgrounds': 6,\n",
       "             'spatial': 3,\n",
       "             'much': 3,\n",
       "             'rapidly': 3,\n",
       "             'emergent': 3,\n",
       "             'experiences': 3,\n",
       "             'measured': 3,\n",
       "             'similar': 3,\n",
       "             'grown': 3,\n",
       "             'inspirals': 3,\n",
       "             'plausible': 3,\n",
       "             'recall': 3,\n",
       "             'brightest': 3,\n",
       "             'sbh': 6,\n",
       "             'recently': 3,\n",
       "             'produce': 3,\n",
       "             'spectrum': 3,\n",
       "             'bhs': 3,\n",
       "             'current': 3,\n",
       "             'schwarzchild': 3,\n",
       "             'library': 3,\n",
       "             'parameter': 3,\n",
       "             'rggmc': 3,\n",
       "             'g': 3,\n",
       "             'without': 6,\n",
       "             'source': 6,\n",
       "             'determined': 3,\n",
       "             'ceases': 3,\n",
       "             'times': 3,\n",
       "             'poloidal': 3,\n",
       "             'could': 6,\n",
       "             'propose': 3,\n",
       "             'accretes': 3,\n",
       "             'thermal-viscous': 3,\n",
       "             'shows': 3,\n",
       "             'donor': 3,\n",
       "             'moreover': 3,\n",
       "             'orbits': 3,\n",
       "             'tidally': 3,\n",
       "             'free': 3,\n",
       "             'tendency': 3,\n",
       "             'active': 3,\n",
       "             'primordial': 3,\n",
       "             'aligned': 3,\n",
       "             'anti-aligned': 3,\n",
       "             'instability': 3,\n",
       "             'hmxb': 3,\n",
       "             'versus': 3,\n",
       "             'clustering': 6,\n",
       "             'pairs': 3,\n",
       "             'sample': 3,\n",
       "             'cosmic': 3,\n",
       "             'starting': 3,\n",
       "             'perturbed': 3,\n",
       "             'observed': 3,\n",
       "             'aborting': 3,\n",
       "             'immersed': 3,\n",
       "             'plus': 3,\n",
       "             'modeled': 3,\n",
       "             'inspiral': 6,\n",
       "             '9': 3,\n",
       "             'ejections': 3,\n",
       "             'considered': 3,\n",
       "             'isco': 3,\n",
       "             'co-rotating': 3,\n",
       "             'resonant': 3,\n",
       "             'cool': 3,\n",
       "             'poorly': 3,\n",
       "             'physically': 3,\n",
       "             'critical': 3,\n",
       "             'emsun': 3,\n",
       "             'bulgeless': 3,\n",
       "             'higher': 3,\n",
       "             'fade': 3,\n",
       "             'limits': 3,\n",
       "             'space-times': 3,\n",
       "             'finder': 3,\n",
       "             'drives': 3,\n",
       "             'bcg': 3,\n",
       "             'fermi': 3,\n",
       "             'grand': 3,\n",
       "             'thermodynamics': 3,\n",
       "             'unaffected': 3,\n",
       "             'due': 3,\n",
       "             'perturbation': 3,\n",
       "             'confirm': 3,\n",
       "             'p': 3,\n",
       "             'hairs': 3,\n",
       "             'tidal': 3,\n",
       "             'geometry': 3,\n",
       "             'seeding': 3,\n",
       "             'including': 6,\n",
       "             'seyfert': 3,\n",
       "             'ngc9': 3,\n",
       "             'cyg': 3,\n",
       "             'calculations': 3,\n",
       "             'always': 3,\n",
       "             'demographics': 3,\n",
       "             'hereby': 3,\n",
       "             'contrast': 3,\n",
       "             'response': 3,\n",
       "             'counterpart': 3,\n",
       "             'triggers': 3,\n",
       "             'punctures': 3,\n",
       "             'forms': 3,\n",
       "             'enviroments': 3,\n",
       "             'interpreted': 3,\n",
       "             'presents': 3,\n",
       "             'bipartite': 3,\n",
       "             'argued': 3,\n",
       "             'case': 3,\n",
       "             'thought': 3,\n",
       "             'flat': 3})"
      ]
     },
     "execution_count": 132,
     "metadata": {},
     "output_type": "execute_result"
    }
   ],
   "source": [
    "model[(\"black\", \"hole\")]"
   ]
  },
  {
   "cell_type": "code",
   "execution_count": 133,
   "metadata": {},
   "outputs": [],
   "source": [
    "# Transform frequency to probabilities\n",
    "for key in model:\n",
    "    total_count = float(sum(model[key].values()))\n",
    "    for word in model[key]:\n",
    "        model[key][word] /= total_count"
   ]
  },
  {
   "cell_type": "markdown",
   "metadata": {},
   "source": [
    "Given \"black hole\" as a prompt to the model, these are the most probable words that our model generates."
   ]
  },
  {
   "cell_type": "code",
   "execution_count": 186,
   "metadata": {},
   "outputs": [
    {
     "data": {
      "text/plain": [
       "[('mass', 0.11550888529886914),\n",
       " ('masses', 0.03715670436187399),\n",
       " ('bh', 0.034733441033925685),\n",
       " ('spin', 0.029079159935379646),\n",
       " ('accretion', 0.027463651050080775)]"
      ]
     },
     "execution_count": 186,
     "metadata": {},
     "output_type": "execute_result"
    }
   ],
   "source": [
    "sorted(model['black', 'hole'].items(), key = lambda item: item[1], reverse=True)[:5]"
   ]
  },
  {
   "cell_type": "markdown",
   "metadata": {},
   "source": [
    "### Text Generation"
   ]
  },
  {
   "cell_type": "markdown",
   "metadata": {},
   "source": [
    "We can iteratively use our model to generate sentences given a random piece of text."
   ]
  },
  {
   "cell_type": "code",
   "execution_count": 257,
   "metadata": {},
   "outputs": [],
   "source": [
    "def text_generator(text: list[str]) -> str:\n",
    "    sentence_finished = False\n",
    "     \n",
    "    while not sentence_finished:\n",
    "\n",
    "        # Randomly pick a word from model given the last two words in text.\n",
    "        model_sorted_probabilities = sorted(model[tuple(text[-2:])].items(), key = lambda item: item[1], reverse=True)\n",
    "        word = model_sorted_probabilities[np.random.choice(np.arange(len(model_sorted_probabilities)))][0]\n",
    "        \n",
    "        text.append(word)\n",
    "    \n",
    "        # Finish once we have generated 20 words.\n",
    "        if len(text) == 20:\n",
    "            sentence_finished = True\n",
    "     \n",
    "    return ' '.join(text)"
   ]
  },
  {
   "cell_type": "code",
   "execution_count": 258,
   "metadata": {},
   "outputs": [
    {
     "data": {
      "text/plain": [
       "'black hole higher dimensional representations eg models pure glue ordinary quarks confined two flux tubes implied triangular configuration baryons within'"
      ]
     },
     "execution_count": 258,
     "metadata": {},
     "output_type": "execute_result"
    }
   ],
   "source": [
    "text_generator([\"black\", \"hole\"])"
   ]
  },
  {
   "cell_type": "markdown",
   "metadata": {},
   "source": [
    "N-grams are simple models, but they can get computationally expensive as you start considering the long-term context of the words in a sequence, or increase the N value to a larger number. "
   ]
  },
  {
   "cell_type": "markdown",
   "metadata": {},
   "source": [
    "Cold start is also a huge problem with such models, for example, what should have happened if our model would have never encountered `black hole` in raw text. "
   ]
  },
  {
   "cell_type": "code",
   "execution_count": null,
   "metadata": {},
   "outputs": [],
   "source": []
  }
 ],
 "metadata": {
  "kernelspec": {
   "display_name": "Python 3 (ipykernel)",
   "language": "python",
   "name": "python3"
  },
  "language_info": {
   "codemirror_mode": {
    "name": "ipython",
    "version": 3
   },
   "file_extension": ".py",
   "mimetype": "text/x-python",
   "name": "python",
   "nbconvert_exporter": "python",
   "pygments_lexer": "ipython3",
   "version": "3.11.8"
  }
 },
 "nbformat": 4,
 "nbformat_minor": 4
}
