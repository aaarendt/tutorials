{
 "cells": [
  {
   "cell_type": "markdown",
   "metadata": {},
   "source": [
    "# Introduction to Language Models"
   ]
  },
  {
   "cell_type": "markdown",
   "metadata": {},
   "source": [
    "Language models are a type of machine learning model trained to learn a probability distribution over words. They've been used for various applications, including text generation, question answering, text summarization, language translation, and speech recognition. \n",
    "\n",
    "These models have existed since the 1980s and are mainly categorized into two kinds: (1) **statistical models** that use statistical techniques such as N-grams, hidden markov models, etc. These models are interpretable and more suitable when amount of data used for training is smaall, and (2) **neural models** that use neural networks for training on large amounts of data.\n",
    "\n",
    "Humans are inherently good at learning the probability of the next word. For example, if asked which of the below sentences has a higher probability for you to encounter, we know that the probability of the first sentence is greater than the second. "
   ]
  },
  {
   "cell_type": "markdown",
   "metadata": {},
   "source": [
    "$$\n",
    "  p(\\text{jupiter is the largest planet}) > p(\\text{jupiter is the largest moon})\n",
    "$$"
   ]
  },
  {
   "cell_type": "markdown",
   "metadata": {},
   "source": [
    "Language modeling aims to train models that can do well in tasks like the above statement. \n",
    "\n"
   ]
  },
  {
   "cell_type": "markdown",
   "metadata": {},
   "source": [
    "## N-Gram"
   ]
  },
  {
   "cell_type": "markdown",
   "metadata": {},
   "source": [
    "> An N-gram is a sequence of N words (or tokens.)"
   ]
  },
  {
   "cell_type": "markdown",
   "metadata": {},
   "source": [
    "Take the sentence : `The Sun is the Solar System's star and by far its most massive component. `"
   ]
  },
  {
   "cell_type": "markdown",
   "metadata": {},
   "source": [
    "A unigram, or 1-gram for the above sentence would be: `\"The\", \"Sun\", \"is\", \"the\", \"Solar\", \"Systems\", \"star\", \"and\", \"by\", \"far\", \"its\", \"most\", \"massive\", \"component\"`\n",
    "\n",
    "A bigram, or 2-gram for the above sentence would be: `\"The Sun\", \"Sun is\", \"is the\", \"the Solar\", \"Solar Systems\", \"Systems star\", \"star and\", \"and by\", \"by far\", \"far its\", \"its most\", \"most massive\", \"massive component\"`"
   ]
  },
  {
   "cell_type": "markdown",
   "metadata": {},
   "source": [
    "N-gram models consider the probability of the given word, given the (N-1) previous words. For trigrams, they consider the probability of a word given the two previous words. "
   ]
  },
  {
   "cell_type": "markdown",
   "metadata": {},
   "source": [
    "## Building an N-Gram Language Model"
   ]
  },
  {
   "cell_type": "markdown",
   "metadata": {},
   "source": [
    "To demystify how language models in principle, we will **build an n-gram language model** from scratch in Python. "
   ]
  },
  {
   "cell_type": "markdown",
   "metadata": {},
   "source": [
    "We will be using [arXiv Dataset](https://www.kaggle.com/datasets/Cornell-University/arxiv?resource=download) for this tutorial, in particular we will use the abstracts for all the papers classified under the astrophysics category, i.e., with category value of `astro-ph`. \n",
    "\n",
    "The raw dataset has already been cleaned and stored in a pickle file for you. "
   ]
  },
  {
   "cell_type": "code",
   "execution_count": 1,
   "metadata": {},
   "outputs": [],
   "source": [
    "from collections import Counter, defaultdict\n",
    "import nltk\n",
    "import random\n",
    "import re\n",
    "import numpy as np\n",
    "import pandas as pd"
   ]
  },
  {
   "cell_type": "code",
   "execution_count": 3,
   "metadata": {},
   "outputs": [],
   "source": [
    "astro_ph_df = pd.read_pickle(\"../../resources/data/astro-ph-arXiv-abstracts.pkl\")"
   ]
  },
  {
   "cell_type": "code",
   "execution_count": 4,
   "metadata": {},
   "outputs": [
    {
     "data": {
      "text/html": [
       "<div>\n",
       "<style scoped>\n",
       "    .dataframe tbody tr th:only-of-type {\n",
       "        vertical-align: middle;\n",
       "    }\n",
       "\n",
       "    .dataframe tbody tr th {\n",
       "        vertical-align: top;\n",
       "    }\n",
       "\n",
       "    .dataframe thead th {\n",
       "        text-align: right;\n",
       "    }\n",
       "</style>\n",
       "<table border=\"1\" class=\"dataframe\">\n",
       "  <thead>\n",
       "    <tr style=\"text-align: right;\">\n",
       "      <th></th>\n",
       "      <th>id</th>\n",
       "      <th>title</th>\n",
       "      <th>abstract</th>\n",
       "    </tr>\n",
       "  </thead>\n",
       "  <tbody>\n",
       "    <tr>\n",
       "      <th>0</th>\n",
       "      <td>712.2086</td>\n",
       "      <td>On weak and strong magnetohydrodynamic turbulence</td>\n",
       "      <td>Recent numerical and observational studies c...</td>\n",
       "    </tr>\n",
       "    <tr>\n",
       "      <th>1</th>\n",
       "      <td>712.2103</td>\n",
       "      <td>Hilltop Curvatons</td>\n",
       "      <td>We study ``hilltop'' curvatons that evolve o...</td>\n",
       "    </tr>\n",
       "    <tr>\n",
       "      <th>2</th>\n",
       "      <td>712.211</td>\n",
       "      <td>Near-field cosmology with the VLT</td>\n",
       "      <td>With the arrival of wide-field imagers on me...</td>\n",
       "    </tr>\n",
       "    <tr>\n",
       "      <th>3</th>\n",
       "      <td>712.2111</td>\n",
       "      <td>The prototype colliding-wind pinwheel WR 104</td>\n",
       "      <td>Results from the most extensive study of the...</td>\n",
       "    </tr>\n",
       "    <tr>\n",
       "      <th>4</th>\n",
       "      <td>712.2116</td>\n",
       "      <td>X-ray spectral evolution of TeV BL Lac objects...</td>\n",
       "      <td>Many of the extragalactic sources detected i...</td>\n",
       "    </tr>\n",
       "  </tbody>\n",
       "</table>\n",
       "</div>"
      ],
      "text/plain": [
       "         id                                              title  \\\n",
       "0  712.2086  On weak and strong magnetohydrodynamic turbulence   \n",
       "1  712.2103                                  Hilltop Curvatons   \n",
       "2   712.211                  Near-field cosmology with the VLT   \n",
       "3  712.2111       The prototype colliding-wind pinwheel WR 104   \n",
       "4  712.2116  X-ray spectral evolution of TeV BL Lac objects...   \n",
       "\n",
       "                                            abstract  \n",
       "0    Recent numerical and observational studies c...  \n",
       "1    We study ``hilltop'' curvatons that evolve o...  \n",
       "2    With the arrival of wide-field imagers on me...  \n",
       "3    Results from the most extensive study of the...  \n",
       "4    Many of the extragalactic sources detected i...  "
      ]
     },
     "metadata": {},
     "output_type": "display_data"
    },
    {
     "data": {
      "text/plain": [
       "'There are 331564 papers in our dataset.'"
      ]
     },
     "execution_count": 4,
     "metadata": {},
     "output_type": "execute_result"
    }
   ],
   "source": [
    "display(astro_ph_df.head())\n",
    "f\"There are {astro_ph_df.shape[0]} papers in our dataset.\""
   ]
  },
  {
   "cell_type": "markdown",
   "metadata": {},
   "source": [
    "For demonstration purposes, we won't use the entire dataset, but only sample 10000 papers from it. "
   ]
  },
  {
   "cell_type": "code",
   "execution_count": 5,
   "metadata": {},
   "outputs": [],
   "source": [
    "sampled_astro_ph_df = astro_ph_df.sample(10000)\n",
    "assert sampled_astro_ph_df.shape[0] == 10000"
   ]
  },
  {
   "cell_type": "markdown",
   "metadata": {},
   "source": [
    "It's important to clean raw text data because computers, unlike humans, do not know that the word `many` and `Many` mean the same thing. We will use the `nltk` library to clean our raw text as part of data preprocessing."
   ]
  },
  {
   "cell_type": "markdown",
   "metadata": {},
   "source": [
    "### Data Preprocessing"
   ]
  },
  {
   "cell_type": "code",
   "execution_count": 6,
   "metadata": {},
   "outputs": [],
   "source": [
    "# Stitch all abstracts together\n",
    "abstracts = \" \".join(list(sampled_astro_ph_df.abstract))"
   ]
  },
  {
   "cell_type": "code",
   "execution_count": 7,
   "metadata": {
    "scrolled": true
   },
   "outputs": [],
   "source": [
    "# Removing extra spaces\n",
    "abstracts = re.sub(\"\\s+\", \" \", abstracts)"
   ]
  },
  {
   "cell_type": "code",
   "execution_count": 8,
   "metadata": {},
   "outputs": [],
   "source": [
    "# Remove punctuations\n",
    "abstracts = re.sub(\"[^-9A-Za-z ]\", \"\", abstracts)"
   ]
  },
  {
   "cell_type": "code",
   "execution_count": 9,
   "metadata": {
    "scrolled": true
   },
   "outputs": [],
   "source": [
    "# Lowercase all data\n",
    "abstracts = abstracts.lower()"
   ]
  },
  {
   "cell_type": "markdown",
   "metadata": {},
   "source": [
    "\n",
    "An important part of any text processing pipeline is `tokenizers,` which break your unstructured data and natural language text into discrete elements. For this tutorial, we will use nltk's word tokenizer, which can help you separate words and punctuations. "
   ]
  },
  {
   "cell_type": "code",
   "execution_count": 10,
   "metadata": {},
   "outputs": [
    {
     "name": "stderr",
     "output_type": "stream",
     "text": [
      "[nltk_data] Downloading package punkt to /Users/a42/nltk_data...\n",
      "[nltk_data]   Package punkt is already up-to-date!\n"
     ]
    },
    {
     "data": {
      "text/plain": [
       "True"
      ]
     },
     "execution_count": 10,
     "metadata": {},
     "output_type": "execute_result"
    }
   ],
   "source": [
    "# nltk word tokenizer requires Punkt sentence tokenization models.\n",
    "nltk.download('punkt')"
   ]
  },
  {
   "cell_type": "code",
   "execution_count": 11,
   "metadata": {},
   "outputs": [],
   "source": [
    "abstract_tokens = nltk.tokenize.word_tokenize(abstracts)"
   ]
  },
  {
   "cell_type": "code",
   "execution_count": 12,
   "metadata": {
    "scrolled": true
   },
   "outputs": [
    {
     "data": {
      "text/plain": [
       "['secular',\n",
       " 'evolution',\n",
       " 'is',\n",
       " 'one',\n",
       " 'of',\n",
       " 'the',\n",
       " 'key',\n",
       " 'routes',\n",
       " 'through',\n",
       " 'which']"
      ]
     },
     "execution_count": 12,
     "metadata": {},
     "output_type": "execute_result"
    }
   ],
   "source": [
    "abstract_tokens[:10]"
   ]
  },
  {
   "cell_type": "markdown",
   "metadata": {},
   "source": [
    "Let's also remove stop words that are widely used words (such as \"the,\" \"a,\" \"an,\" or \"in\")."
   ]
  },
  {
   "cell_type": "code",
   "execution_count": 13,
   "metadata": {},
   "outputs": [
    {
     "name": "stderr",
     "output_type": "stream",
     "text": [
      "[nltk_data] Downloading package stopwords to /Users/a42/nltk_data...\n",
      "[nltk_data]   Package stopwords is already up-to-date!\n"
     ]
    },
    {
     "data": {
      "text/plain": [
       "True"
      ]
     },
     "execution_count": 13,
     "metadata": {},
     "output_type": "execute_result"
    }
   ],
   "source": [
    "nltk.download('stopwords')"
   ]
  },
  {
   "cell_type": "code",
   "execution_count": 14,
   "metadata": {},
   "outputs": [],
   "source": [
    "# Remove stop words\n",
    "stopwords = nltk.corpus.stopwords.words('english')"
   ]
  },
  {
   "cell_type": "code",
   "execution_count": 15,
   "metadata": {
    "scrolled": true
   },
   "outputs": [
    {
     "data": {
      "text/plain": [
       "['i', 'me', 'my', 'myself', 'we', 'our', 'ours', 'ourselves', 'you', \"you're\"]"
      ]
     },
     "execution_count": 15,
     "metadata": {},
     "output_type": "execute_result"
    }
   ],
   "source": [
    "stopwords[:10]"
   ]
  },
  {
   "cell_type": "code",
   "execution_count": 16,
   "metadata": {},
   "outputs": [],
   "source": [
    "abstract_tokens = [token for token in abstract_tokens if token not in stopwords]"
   ]
  },
  {
   "cell_type": "markdown",
   "metadata": {},
   "source": [
    "### Trigram model"
   ]
  },
  {
   "cell_type": "markdown",
   "metadata": {},
   "source": [
    "`nltk` package provides an abstraction to build trigrams out of your given text. "
   ]
  },
  {
   "cell_type": "code",
   "execution_count": 17,
   "metadata": {},
   "outputs": [
    {
     "data": {
      "text/plain": [
       "[('Sun', 'is', 'the'),\n",
       " ('is', 'the', 'largest'),\n",
       " ('the', 'largest', 'star'),\n",
       " ('largest', 'star', 'our'),\n",
       " ('star', 'our', 'solar'),\n",
       " ('our', 'solar', 'system'),\n",
       " ('solar', 'system', '.')]"
      ]
     },
     "execution_count": 17,
     "metadata": {},
     "output_type": "execute_result"
    }
   ],
   "source": [
    "list(nltk.trigrams([\"Sun\", \"is\", \"the\", \"largest\", \"star\", \"our\", \"solar\", \"system\", \".\"]))"
   ]
  },
  {
   "cell_type": "code",
   "execution_count": 18,
   "metadata": {},
   "outputs": [],
   "source": [
    "# Initialize a model.\n",
    "model = defaultdict(lambda: defaultdict(lambda: 0))"
   ]
  },
  {
   "cell_type": "code",
   "execution_count": null,
   "metadata": {},
   "outputs": [],
   "source": []
  },
  {
   "cell_type": "code",
   "execution_count": 19,
   "metadata": {},
   "outputs": [],
   "source": [
    "# Compute the frequency of the word given its two previous words.\n",
    "for w1, w2, w3 in nltk.trigrams(abstract_tokens):\n",
    "    model[(w1, w2)][w3] += 1"
   ]
  },
  {
   "cell_type": "markdown",
   "metadata": {},
   "source": [
    "Print 10 random possible words given \"black hole\" as a prompt to our language model. Note that the trigram model can tell you the probability of a word given two words"
   ]
  },
  {
   "cell_type": "code",
   "execution_count": 22,
   "metadata": {},
   "outputs": [
    {
     "data": {
      "text/plain": [
       "[('find', 7),\n",
       " ('ngc', 1),\n",
       " ('bondi', 1),\n",
       " ('systems', 13),\n",
       " ('detected', 1),\n",
       " ('specifically', 1),\n",
       " ('merger', 7),\n",
       " ('general', 2),\n",
       " ('v', 1),\n",
       " ('universal', 1)]"
      ]
     },
     "execution_count": 22,
     "metadata": {},
     "output_type": "execute_result"
    }
   ],
   "source": [
    "random.sample(list(model[(\"black\", \"hole\")].items()), 10)"
   ]
  },
  {
   "cell_type": "code",
   "execution_count": 133,
   "metadata": {},
   "outputs": [],
   "source": [
    "# Transform frequency to probabilities\n",
    "for key in model:\n",
    "    total_count = float(sum(model[key].values()))\n",
    "    for word in model[key]:\n",
    "        model[key][word] /= total_count"
   ]
  },
  {
   "cell_type": "markdown",
   "metadata": {},
   "source": [
    "Given \"black hole\" as a prompt to the model, these are the most probable words that our model generates."
   ]
  },
  {
   "cell_type": "code",
   "execution_count": 186,
   "metadata": {},
   "outputs": [
    {
     "data": {
      "text/plain": [
       "[('mass', 0.11550888529886914),\n",
       " ('masses', 0.03715670436187399),\n",
       " ('bh', 0.034733441033925685),\n",
       " ('spin', 0.029079159935379646),\n",
       " ('accretion', 0.027463651050080775)]"
      ]
     },
     "execution_count": 186,
     "metadata": {},
     "output_type": "execute_result"
    }
   ],
   "source": [
    "sorted(model['black', 'hole'].items(), key = lambda item: item[1], reverse=True)[:5]"
   ]
  },
  {
   "cell_type": "markdown",
   "metadata": {},
   "source": [
    "### Text Generation"
   ]
  },
  {
   "cell_type": "markdown",
   "metadata": {},
   "source": [
    "We can iteratively use our model to generate sentences given a random piece of text."
   ]
  },
  {
   "cell_type": "code",
   "execution_count": 257,
   "metadata": {},
   "outputs": [],
   "source": [
    "def text_generator(text: list[str]) -> str:\n",
    "    sentence_finished = False\n",
    "     \n",
    "    while not sentence_finished:\n",
    "\n",
    "        # Randomly pick a word from model given the last two words in text.\n",
    "        model_sorted_probabilities = sorted(model[tuple(text[-2:])].items(), key = lambda item: item[1], reverse=True)\n",
    "        word = model_sorted_probabilities[np.random.choice(np.arange(len(model_sorted_probabilities)))][0]\n",
    "        \n",
    "        text.append(word)\n",
    "    \n",
    "        # Finish once we have generated 20 words.\n",
    "        if len(text) == 20:\n",
    "            sentence_finished = True\n",
    "     \n",
    "    return ' '.join(text)"
   ]
  },
  {
   "cell_type": "code",
   "execution_count": 258,
   "metadata": {},
   "outputs": [
    {
     "data": {
      "text/plain": [
       "'black hole higher dimensional representations eg models pure glue ordinary quarks confined two flux tubes implied triangular configuration baryons within'"
      ]
     },
     "execution_count": 258,
     "metadata": {},
     "output_type": "execute_result"
    }
   ],
   "source": [
    "text_generator([\"black\", \"hole\"])"
   ]
  },
  {
   "cell_type": "markdown",
   "metadata": {},
   "source": [
    "N-grams are simple models, but they can get computationally expensive as you start considering the long-term context of the words in a sequence, or increase the N value to a larger number. "
   ]
  },
  {
   "cell_type": "markdown",
   "metadata": {},
   "source": [
    "Cold start is also a huge problem with such models, for example, what should have happened if our model would have never encountered `black hole` in raw text. "
   ]
  },
  {
   "cell_type": "code",
   "execution_count": null,
   "metadata": {},
   "outputs": [],
   "source": []
  }
 ],
 "metadata": {
  "kernelspec": {
   "display_name": "Python 3 (ipykernel)",
   "language": "python",
   "name": "python3"
  },
  "language_info": {
   "codemirror_mode": {
    "name": "ipython",
    "version": 3
   },
   "file_extension": ".py",
   "mimetype": "text/x-python",
   "name": "python",
   "nbconvert_exporter": "python",
   "pygments_lexer": "ipython3",
   "version": "3.11.8"
  }
 },
 "nbformat": 4,
 "nbformat_minor": 4
}
