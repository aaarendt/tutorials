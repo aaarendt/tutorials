{
 "cells": [
  {
   "cell_type": "markdown",
   "id": "ebb54058-bf40-4ecd-bb10-5eb3e6c5aa8b",
   "metadata": {},
   "source": [
    "# LLMs, Prompt Engineering, and OLMo"
   ]
  },
  {
   "cell_type": "markdown",
   "id": "75972fd4-1e17-40e2-865c-ad10e5caeace",
   "metadata": {},
   "source": [
    "## Introduction"
   ]
  },
  {
   "cell_type": "markdown",
   "id": "be59c6a8-cddf-4308-9b7a-9d5b3f09edcb",
   "metadata": {},
   "source": [
    "An introduction to large language models and how they're trained is out of scope, but they have been trained over large amounts of textual information. Getting into the weeds of how these models are trained is out of the scope of this tutorial, but we have added links to papers and tutorials if you'd like to understand how LLMs are trained. Do note that training LLMs is expensive; the cost can go up to millions of dollars. "
   ]
  },
  {
   "cell_type": "markdown",
   "id": "cd8f76df-7a8d-4fe8-b983-86aa7783c286",
   "metadata": {},
   "source": [
    "Early language models could predict the probability of a single word token or n-grams; modern large language models can predict the likelihood of sentences, paragraphs, or entire documents."
   ]
  },
  {
   "cell_type": "markdown",
   "id": "e2c4ce8a-4fde-495a-9dce-12cabfcd1501",
   "metadata": {},
   "source": [
    "However, LLMs are notoriously unable to retrieve and manipulate the knowledge they possess, which leads to issues like hallucination (i.e., generating factually incorrect information), knowledge cutoffs, and poor performance in domain-specific applications."
   ]
  },
  {
   "cell_type": "markdown",
   "id": "05d95306-9a8f-45cb-b3ed-c02ed65b87eb",
   "metadata": {},
   "source": [
    "For this entire tutorial, we will be using [Open Language Model: OLMo](https://allenai.org/olmo), an open LLM framework built by [Allen Institute for AI](https://allenai.org/). With this open framework, you can access its complete pretraining data ([dolma](https://github.com/allenai/dolma)), training code, model weights, and evaluation suite. "
   ]
  },
  {
   "cell_type": "markdown",
   "id": "e5ef1a9d-bde0-413a-87b6-d6e90b29324b",
   "metadata": {},
   "source": [
    "We have chosen a 7B instruction-tuned OLMo model that we have compressed to speed up its inference time. "
   ]
  },
  {
   "cell_type": "code",
   "execution_count": 13,
   "id": "3a6c106f-9670-48a9-a0ab-3e4d292b3d0a",
   "metadata": {},
   "outputs": [],
   "source": [
    "from llama_cpp import Llama # Python bindings for llama.cpp, to enable LLM inference with minimal setup\n",
    "import ssec_tutorials.scipy_conf # Contains helper methods for tutorial"
   ]
  },
  {
   "cell_type": "code",
   "execution_count": 4,
   "id": "66be7b3d-657f-406b-8e6f-61142b785616",
   "metadata": {},
   "outputs": [],
   "source": [
    "from inspect import signature "
   ]
  },
  {
   "cell_type": "code",
   "execution_count": 5,
   "id": "aecc0a96-89ec-401c-a4bd-be9f9bfcf513",
   "metadata": {},
   "outputs": [],
   "source": []
  },
  {
   "cell_type": "code",
   "execution_count": 3,
   "id": "4f1f566b-1705-4181-9f33-f44afaa13345",
   "metadata": {},
   "outputs": [
    {
     "ename": "NameError",
     "evalue": "name 'signature' is not defined",
     "output_type": "error",
     "traceback": [
      "\u001b[0;31m---------------------------------------------------------------------------\u001b[0m",
      "\u001b[0;31mNameError\u001b[0m                                 Traceback (most recent call last)",
      "Cell \u001b[0;32mIn[3], line 1\u001b[0m\n\u001b[0;32m----> 1\u001b[0m \u001b[43msignature\u001b[49m(Llama\u001b[38;5;241m.\u001b[39mfrom_pretrained)\n",
      "\u001b[0;31mNameError\u001b[0m: name 'signature' is not defined"
     ]
    }
   ],
   "source": [
    "signature(Llama.from_pretrained)"
   ]
  },
  {
   "cell_type": "code",
   "execution_count": 15,
   "id": "043d0767",
   "metadata": {},
   "outputs": [],
   "source": [
    "# Loads the model from huggingface hub: https://huggingface.co/ssec-uw/OLMo-7B-Instruct-GGUF\n",
    "olmo = Llama.from_pretrained(repo_id=\"ssec-uw/OLMo-7B-Instruct-GGUF\", filename=\"OLMo-7B-Instruct-Q4_K_M.gguf\", verbose=False)"
   ]
  },
  {
   "cell_type": "code",
   "execution_count": 7,
   "id": "eae666e7",
   "metadata": {},
   "outputs": [],
   "source": [
    "chat_response = olmo.create_chat_completion(\n",
    "    messages=[\n",
    "        {\n",
    "            \"role\": \"system\",\n",
    "            \"content\": \"You are an astro physics expert that answers questions around astrophysics.\",\n",
    "        },\n",
    "        {\"role\": \"user\", \"content\": \"What is dark matter?\"},\n",
    "    ],\n",
    "    temperature=0.8\n",
    ")"
   ]
  },
  {
   "cell_type": "code",
   "execution_count": 8,
   "id": "748ec32e-2841-4eb7-b9e6-aa66ee9f049d",
   "metadata": {},
   "outputs": [
    {
     "data": {
      "text/plain": [
       "{'role': 'assistant',\n",
       " 'content': 'Dark matter is a theoretical entity that is still not directly observed or confirmed, but its presence is inferred from the scientific observations of our galaxy and other celestial bodies. Dark matter makes up approximately 85% of the matter in the universe, while visible matter only occupies about 5% of the cosmic composition. The term \"dark\" does not refer to a color, but rather it\\'s a way to describe elements that do not emit, absorb, or reflect light as we can detect them.\\n\\nThe existence of dark matter is based on various astrophysical and cosmological observations. Astronomers have observed how gravity affects the motion of celestial bodies in our galaxy, and this motion does not match what would be predicted by the visible mass of those bodies. This discrepancy between the expected gravitational motion and the actual motion suggests that there must be additional matter contributing to the total mass density of the universe.\\n\\nOne popular hypothesis for dark matter\\'s nature is that it consists of weakly interacting massive particles (WIMPs). WIMPs are thought to be stable, non-radioactive particles with masses between one and 100 atomic mass units. These particles could have been formed during the early stages of the universe\\'s expansion and still exist in sufficient quantities to explain the observed dark matter density.\\n\\nDespite its theoretical nature, the concept of dark matter plays a vital role in our understanding of the cosmos, helping us comprehend the intricate relationships between the observable universe, gravitational forces, and cosmic evolution. The existence of dark matter is still uncertain and subject to ongoing scientific research.'}"
      ]
     },
     "execution_count": 8,
     "metadata": {},
     "output_type": "execute_result"
    }
   ],
   "source": [
    "ssec_tutorials.scipy_conf.parse_olmo_chat_completion_response(chat_response)"
   ]
  },
  {
   "cell_type": "code",
   "execution_count": 7,
   "id": "3b3210a5",
   "metadata": {},
   "outputs": [
    {
     "name": "stderr",
     "output_type": "stream",
     "text": [
      "\n",
      "llama_print_timings:        load time =    3652.12 ms\n",
      "llama_print_timings:      sample time =      12.79 ms /   100 runs   (    0.13 ms per token,  7818.00 tokens per second)\n",
      "llama_print_timings: prompt eval time =    3651.92 ms /     4 tokens (  912.98 ms per token,     1.10 tokens per second)\n",
      "llama_print_timings:        eval time =    5328.67 ms /    99 runs   (   53.82 ms per token,    18.58 tokens per second)\n",
      "llama_print_timings:       total time =    9199.21 ms /   103 tokens\n"
     ]
    },
    {
     "data": {
      "text/plain": [
       "{'id': 'cmpl-6b3a8682-7051-4e4a-a674-3d84c790eb28',\n",
       " 'object': 'text_completion',\n",
       " 'created': 1715210934,\n",
       " 'model': '/Users/a42/.cache/huggingface/hub/models--ssec-uw--OLMo-7B-Instruct-GGUF/snapshots/c1e2ef890c3c15396eded8f41f2a2d7d3be1c124/./OLMo-7B-Instruct-Q4_K_M.gguf',\n",
       " 'choices': [{'text': 'Solar system is a collection of several celestial bodies that revolve around a star. Most prominent among these celestial bodies are Sun, Moon, Stars and Planets. Solar System consists of eight planets – Mercury, Venus, Earth, Mars, Jupiter, Saturn, Uranus, and Neptune. Apart from these major planets, there are other smaller bodies such as Asteroids, Comets, Meteors, and Kuiper Belt Objects (KBOs).\\nThis section contains various facts about',\n",
       "   'index': 0,\n",
       "   'logprobs': None,\n",
       "   'finish_reason': 'length'}],\n",
       " 'usage': {'prompt_tokens': 4, 'completion_tokens': 100, 'total_tokens': 104}}"
      ]
     },
     "execution_count": 7,
     "metadata": {},
     "output_type": "execute_result"
    }
   ],
   "source": [
    "olmo(prompt=\"Solar system is\", echo=True, max_tokens=100, temperature=0.8)"
   ]
  },
  {
   "cell_type": "code",
   "execution_count": null,
   "id": "1571ad86-5a77-4874-852b-479f6965ee3b",
   "metadata": {},
   "outputs": [],
   "source": [
    "olmo(prompt=\"Dark matter is\", echo=True, max_tokens=100, temperature=0.8)"
   ]
  },
  {
   "cell_type": "markdown",
   "id": "800b54c9-f225-461f-a7d2-18315a667052",
   "metadata": {},
   "source": [
    "**References**\n",
    "1. https://news.ycombinator.com/item?id=35712334\n",
    "2. https://benjaminwarner.dev/2023/07/01/attention-mechanism"
   ]
  },
  {
   "cell_type": "code",
   "execution_count": null,
   "id": "bf058e24-7af9-4c29-9ca6-aa4800831d4f",
   "metadata": {},
   "outputs": [],
   "source": []
  }
 ],
 "metadata": {
  "kernelspec": {
   "display_name": "Python 3 (ipykernel)",
   "language": "python",
   "name": "python3"
  },
  "language_info": {
   "codemirror_mode": {
    "name": "ipython",
    "version": 3
   },
   "file_extension": ".py",
   "mimetype": "text/x-python",
   "name": "python",
   "nbconvert_exporter": "python",
   "pygments_lexer": "ipython3",
   "version": "3.11.8"
  }
 },
 "nbformat": 4,
 "nbformat_minor": 5
}
